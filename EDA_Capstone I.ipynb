{
 "cells": [
  {
   "cell_type": "code",
   "execution_count": 2,
   "metadata": {},
   "outputs": [
    {
     "data": {
      "text/html": [
       "<div>\n",
       "<style scoped>\n",
       "    .dataframe tbody tr th:only-of-type {\n",
       "        vertical-align: middle;\n",
       "    }\n",
       "\n",
       "    .dataframe tbody tr th {\n",
       "        vertical-align: top;\n",
       "    }\n",
       "\n",
       "    .dataframe thead th {\n",
       "        text-align: right;\n",
       "    }\n",
       "</style>\n",
       "<table border=\"1\" class=\"dataframe\">\n",
       "  <thead>\n",
       "    <tr style=\"text-align: right;\">\n",
       "      <th></th>\n",
       "      <th>song_id</th>\n",
       "      <th>start</th>\n",
       "      <th>duration</th>\n",
       "      <th>confidence</th>\n",
       "      <th>type</th>\n",
       "    </tr>\n",
       "  </thead>\n",
       "  <tbody>\n",
       "    <tr>\n",
       "      <th>0</th>\n",
       "      <td>3GYlQmwfBDo7imFyGPhrl7</td>\n",
       "      <td>0.21805</td>\n",
       "      <td>2.03269</td>\n",
       "      <td>0.434</td>\n",
       "      <td>Bar</td>\n",
       "    </tr>\n",
       "    <tr>\n",
       "      <th>1</th>\n",
       "      <td>3GYlQmwfBDo7imFyGPhrl7</td>\n",
       "      <td>2.25075</td>\n",
       "      <td>2.03112</td>\n",
       "      <td>0.629</td>\n",
       "      <td>Bar</td>\n",
       "    </tr>\n",
       "    <tr>\n",
       "      <th>2</th>\n",
       "      <td>3GYlQmwfBDo7imFyGPhrl7</td>\n",
       "      <td>4.28186</td>\n",
       "      <td>2.03905</td>\n",
       "      <td>0.475</td>\n",
       "      <td>Bar</td>\n",
       "    </tr>\n",
       "    <tr>\n",
       "      <th>3</th>\n",
       "      <td>3GYlQmwfBDo7imFyGPhrl7</td>\n",
       "      <td>6.32091</td>\n",
       "      <td>2.03808</td>\n",
       "      <td>0.499</td>\n",
       "      <td>Bar</td>\n",
       "    </tr>\n",
       "    <tr>\n",
       "      <th>4</th>\n",
       "      <td>3GYlQmwfBDo7imFyGPhrl7</td>\n",
       "      <td>8.35899</td>\n",
       "      <td>2.02981</td>\n",
       "      <td>0.858</td>\n",
       "      <td>Bar</td>\n",
       "    </tr>\n",
       "  </tbody>\n",
       "</table>\n",
       "</div>"
      ],
      "text/plain": [
       "                  song_id    start  duration  confidence type\n",
       "0  3GYlQmwfBDo7imFyGPhrl7  0.21805   2.03269       0.434  Bar\n",
       "1  3GYlQmwfBDo7imFyGPhrl7  2.25075   2.03112       0.629  Bar\n",
       "2  3GYlQmwfBDo7imFyGPhrl7  4.28186   2.03905       0.475  Bar\n",
       "3  3GYlQmwfBDo7imFyGPhrl7  6.32091   2.03808       0.499  Bar\n",
       "4  3GYlQmwfBDo7imFyGPhrl7  8.35899   2.02981       0.858  Bar"
      ]
     },
     "execution_count": 2,
     "metadata": {},
     "output_type": "execute_result"
    }
   ],
   "source": [
    "import pandas as pd\n",
    "import seaborn as sn\n",
    "import matplotlib.pyplot as plt\n",
    "import numpy as np\n",
    "%matplotlib inline \n",
    "sn.set(color_codes=True)\n",
    "\n",
    "song_tf = pd.read_csv(\"D:/ONE Drive/Durham College/Dakshvir singh Rehill - AI Song Mixer/Spotify Dataset/SongTimeFrameData.csv\")\n",
    "song_sec = pd.read_csv(\"D:/ONE Drive/Durham College/Dakshvir singh Rehill - AI Song Mixer/Spotify Dataset/SongSectionData.csv\", encoding= 'unicode_escape')\n",
    "\n",
    "song_tf.head()\n",
    "\n"
   ]
  },
  {
   "cell_type": "code",
   "execution_count": null,
   "metadata": {},
   "outputs": [],
   "source": [
    "song_sec.head()\n"
   ]
  },
  {
   "cell_type": "code",
   "execution_count": null,
   "metadata": {},
   "outputs": [],
   "source": [
    "song_sec.corr()\n",
    "\n",
    "\n",
    "#modecon * key confidence\n",
    "# "
   ]
  },
  {
   "cell_type": "code",
   "execution_count": null,
   "metadata": {},
   "outputs": [],
   "source": [
    "song_tf.corr()"
   ]
  },
  {
   "cell_type": "code",
   "execution_count": null,
   "metadata": {},
   "outputs": [],
   "source": [
    "song_tf.describe()"
   ]
  },
  {
   "cell_type": "code",
   "execution_count": null,
   "metadata": {},
   "outputs": [],
   "source": [
    "song_sec.isnull().sum()"
   ]
  },
  {
   "cell_type": "code",
   "execution_count": null,
   "metadata": {},
   "outputs": [],
   "source": [
    "song_tf.isnull().sum()"
   ]
  },
  {
   "cell_type": "code",
   "execution_count": null,
   "metadata": {},
   "outputs": [],
   "source": [
    "song_sec.nunique()"
   ]
  },
  {
   "cell_type": "code",
   "execution_count": null,
   "metadata": {},
   "outputs": [],
   "source": [
    "song_sec[\"mode\"].unique()"
   ]
  },
  {
   "cell_type": "code",
   "execution_count": null,
   "metadata": {},
   "outputs": [],
   "source": [
    "song_sec[\"time_signature\"].unique()"
   ]
  },
  {
   "cell_type": "code",
   "execution_count": null,
   "metadata": {},
   "outputs": [],
   "source": [
    "song_sec[\"key\"].unique()"
   ]
  },
  {
   "cell_type": "code",
   "execution_count": null,
   "metadata": {},
   "outputs": [],
   "source": [
    "#modecon * key confidence\n",
    "\n",
    "fig= plt.figure\n",
    "\n",
    "#ax= fig.add_subplot(1,1,1)\n",
    "\n",
    "sn.pairplot(song_sec)\n"
   ]
  },
  {
   "cell_type": "code",
   "execution_count": null,
   "metadata": {},
   "outputs": [],
   "source": [
    "#sn.barplot(x='key_confidence', y='mode_confidence' , data=song_sec, hue='mode')\n",
    "\n",
    "sn.countplot(x='mode_confidence', hue='mode', data=song_sec)\n"
   ]
  },
  {
   "cell_type": "code",
   "execution_count": null,
   "metadata": {},
   "outputs": [],
   "source": [
    "#sn.barplot(x='key_confidence', y='mode_confidence' , data=song_sec, hue='mode')\n",
    "\n",
    "#sn.catplot(x='mode_confidence', y='key_confidence', col='mode',hue='key', data=song_sec)\n",
    "\n",
    "\n"
   ]
  },
  {
   "cell_type": "code",
   "execution_count": null,
   "metadata": {},
   "outputs": [],
   "source": [
    "# TF\n",
    "\n",
    "song_tf.corr()"
   ]
  },
  {
   "cell_type": "code",
   "execution_count": null,
   "metadata": {},
   "outputs": [],
   "source": [
    "sn.boxplot(x='duration', y='start', data=song_tf, palette='rainbow')\n"
   ]
  },
  {
   "cell_type": "code",
   "execution_count": null,
   "metadata": {},
   "outputs": [],
   "source": []
  }
 ],
 "metadata": {
  "kernelspec": {
   "display_name": "Python 3",
   "language": "python",
   "name": "python3"
  },
  "language_info": {
   "codemirror_mode": {
    "name": "ipython",
    "version": 3
   },
   "file_extension": ".py",
   "mimetype": "text/x-python",
   "name": "python",
   "nbconvert_exporter": "python",
   "pygments_lexer": "ipython3",
   "version": "3.8.3"
  }
 },
 "nbformat": 4,
 "nbformat_minor": 4
}
