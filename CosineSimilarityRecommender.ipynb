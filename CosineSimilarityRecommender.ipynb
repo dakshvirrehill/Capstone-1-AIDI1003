{
 "cells": [
  {
   "cell_type": "markdown",
   "metadata": {},
   "source": [
    "## Model Test AI Song Capstone\n",
    "***\n",
    "This python notebook will test the validity of model for recommender system "
   ]
  },
  {
   "cell_type": "code",
   "execution_count": 1,
   "metadata": {},
   "outputs": [],
   "source": [
    "#importing libraries\n",
    "import sweetviz as sv\n",
    "import numpy as np\n",
    "import pandas as pd\n",
    "import plotly.graph_objs as go\n",
    "import plotly.express as px\n",
    "import matplotlib.pyplot as plt\n",
    "pd.options.plotting.backend = \"plotly\"\n",
    "from sklearn.metrics.pairwise import cosine_similarity, euclidean_distances"
   ]
  },
  {
   "cell_type": "code",
   "execution_count": 2,
   "metadata": {},
   "outputs": [
    {
     "data": {
      "text/plain": [
       "(10782, 19)"
      ]
     },
     "execution_count": 2,
     "metadata": {},
     "output_type": "execute_result"
    }
   ],
   "source": [
    "songs_df = pd.read_csv('SongsByGenre.csv');\n",
    "songs_df.shape"
   ]
  },
  {
   "cell_type": "code",
   "execution_count": null,
   "metadata": {},
   "outputs": [],
   "source": [
    "songs_df.dtypes"
   ]
  },
  {
   "cell_type": "code",
   "execution_count": null,
   "metadata": {},
   "outputs": [],
   "source": [
    "songs_df.head()"
   ]
  },
  {
   "cell_type": "code",
   "execution_count": 3,
   "metadata": {},
   "outputs": [],
   "source": [
    "x = songs_df.artists.str.get_dummies(sep=';')\n",
    "songs_df = pd.concat([songs_df,x],axis=1)"
   ]
  },
  {
   "cell_type": "code",
   "execution_count": 4,
   "metadata": {},
   "outputs": [],
   "source": [
    "x = songs_df.genre.str.get_dummies(sep=';')\n",
    "songs_df = pd.concat([songs_df,x],axis=1)"
   ]
  },
  {
   "cell_type": "code",
   "execution_count": 5,
   "metadata": {},
   "outputs": [],
   "source": [
    "# Getting dummies for nominal variables\n",
    "def map_nominal_dummies(df, column_name):\n",
    "    df_dummy = pd.get_dummies(df[column_name],prefix=column_name)\n",
    "    df = pd.concat([df,df_dummy],axis=1)\n",
    "    return df"
   ]
  },
  {
   "cell_type": "code",
   "execution_count": 6,
   "metadata": {},
   "outputs": [],
   "source": [
    "songs_df = map_nominal_dummies(songs_df,'album')"
   ]
  },
  {
   "cell_type": "code",
   "execution_count": 7,
   "metadata": {},
   "outputs": [],
   "source": [
    "songs_df['key'] = songs_df['key'].astype(\"str\")\n",
    "songs_df['mode'] = songs_df['mode'].astype(\"str\")\n",
    "songs_df.replace(inplace=True, to_replace={'mode': {'0': 'Minor','1':'Major'}})\n",
    "songs_df.replace(inplace=True,to_replace={'key':{'0':'C','1':'C#/Db','2':'D','3':'D#/Eb','4':'E','5':'F','6':'F#/Gb',\\\n",
    "                                                '7':'G','8':'G#/Ab','9':'A','10':'A#/Bb','11':'B'}})"
   ]
  },
  {
   "cell_type": "code",
   "execution_count": 8,
   "metadata": {},
   "outputs": [],
   "source": [
    "songs_df = map_nominal_dummies(songs_df,'key')\n",
    "songs_df = map_nominal_dummies(songs_df,'mode')"
   ]
  },
  {
   "cell_type": "code",
   "execution_count": 13,
   "metadata": {},
   "outputs": [],
   "source": [
    "songs_df.drop(inplace=True,columns=['id','album','genre','artists','key','mode'])"
   ]
  },
  {
   "cell_type": "code",
   "execution_count": null,
   "metadata": {},
   "outputs": [],
   "source": [
    "describe_df = songs_df.describe()\n",
    "describe_df"
   ]
  },
  {
   "cell_type": "code",
   "execution_count": null,
   "metadata": {},
   "outputs": [],
   "source": [
    "num_columns = describe_df.columns"
   ]
  },
  {
   "cell_type": "code",
   "execution_count": null,
   "metadata": {},
   "outputs": [],
   "source": [
    "corr_map = songs_df.corr()\n",
    "heat_map = go.Figure(go.Heatmap(x=num_columns,y=num_columns,z= corr_map,colorscale='YlorRd'))\n",
    "heat_map.update_layout(title='Corelation Between All Numerical Features', \\\n",
    "                  width=60 * len(num_columns), \\\n",
    "                  height=35 * len(num_columns))"
   ]
  },
  {
   "cell_type": "code",
   "execution_count": null,
   "metadata": {},
   "outputs": [],
   "source": [
    "heat_map.write_html(\"SongCorrelation.html\",auto_open=True)"
   ]
  },
  {
   "cell_type": "code",
   "execution_count": 9,
   "metadata": {},
   "outputs": [],
   "source": [
    "songs_df.name = songs_df.name.str.lower()"
   ]
  },
  {
   "cell_type": "code",
   "execution_count": 10,
   "metadata": {},
   "outputs": [],
   "source": [
    "def recommend_by_similarity(df,song_name,n):\n",
    "    song_df = df[df.name == song_name.lower()]\n",
    "    similar_df = df.copy()\n",
    "    numerical_values = similar_df.loc[:, similar_df.columns != 'name']\n",
    "    similar_df['Similarity'] =cosine_similarity(numerical_values, numerical_values.to_numpy()[song_df.index[0],None]).squeeze()\n",
    "    similar_df.sort_values(by= 'Similarity', ascending = False, inplace=True)\n",
    "    return similar_df.head(n)"
   ]
  },
  {
   "cell_type": "code",
   "execution_count": 16,
   "metadata": {},
   "outputs": [
    {
     "data": {
      "text/html": [
       "<div>\n",
       "<style scoped>\n",
       "    .dataframe tbody tr th:only-of-type {\n",
       "        vertical-align: middle;\n",
       "    }\n",
       "\n",
       "    .dataframe tbody tr th {\n",
       "        vertical-align: top;\n",
       "    }\n",
       "\n",
       "    .dataframe thead th {\n",
       "        text-align: right;\n",
       "    }\n",
       "</style>\n",
       "<table border=\"1\" class=\"dataframe\">\n",
       "  <thead>\n",
       "    <tr style=\"text-align: right;\">\n",
       "      <th></th>\n",
       "      <th>name</th>\n",
       "      <th>Similarity</th>\n",
       "    </tr>\n",
       "  </thead>\n",
       "  <tbody>\n",
       "    <tr>\n",
       "      <th>1760</th>\n",
       "      <td>lovers on the sun (feat. sam martin)</td>\n",
       "      <td>1.0</td>\n",
       "    </tr>\n",
       "    <tr>\n",
       "      <th>1246</th>\n",
       "      <td>if i had a gun...</td>\n",
       "      <td>1.0</td>\n",
       "    </tr>\n",
       "    <tr>\n",
       "      <th>6880</th>\n",
       "      <td>strange comfort</td>\n",
       "      <td>1.0</td>\n",
       "    </tr>\n",
       "    <tr>\n",
       "      <th>6206</th>\n",
       "      <td>express 999</td>\n",
       "      <td>1.0</td>\n",
       "    </tr>\n",
       "    <tr>\n",
       "      <th>3701</th>\n",
       "      <td>wieder winter</td>\n",
       "      <td>1.0</td>\n",
       "    </tr>\n",
       "    <tr>\n",
       "      <th>2232</th>\n",
       "      <td>burning angel</td>\n",
       "      <td>1.0</td>\n",
       "    </tr>\n",
       "    <tr>\n",
       "      <th>685</th>\n",
       "      <td>foetus of a new day kicking</td>\n",
       "      <td>1.0</td>\n",
       "    </tr>\n",
       "    <tr>\n",
       "      <th>8526</th>\n",
       "      <td>pick me up</td>\n",
       "      <td>1.0</td>\n",
       "    </tr>\n",
       "    <tr>\n",
       "      <th>8644</th>\n",
       "      <td>find dem flaw</td>\n",
       "      <td>1.0</td>\n",
       "    </tr>\n",
       "    <tr>\n",
       "      <th>7805</th>\n",
       "      <td>feel so close - radio edit</td>\n",
       "      <td>1.0</td>\n",
       "    </tr>\n",
       "    <tr>\n",
       "      <th>9639</th>\n",
       "      <td>falling down</td>\n",
       "      <td>1.0</td>\n",
       "    </tr>\n",
       "    <tr>\n",
       "      <th>9368</th>\n",
       "      <td>xique bacanizado - ao vivo</td>\n",
       "      <td>1.0</td>\n",
       "    </tr>\n",
       "    <tr>\n",
       "      <th>538</th>\n",
       "      <td>q&amp;a リサイタル!</td>\n",
       "      <td>1.0</td>\n",
       "    </tr>\n",
       "    <tr>\n",
       "      <th>1972</th>\n",
       "      <td>you &amp; me - baauer remix</td>\n",
       "      <td>1.0</td>\n",
       "    </tr>\n",
       "    <tr>\n",
       "      <th>3058</th>\n",
       "      <td>so much for love</td>\n",
       "      <td>1.0</td>\n",
       "    </tr>\n",
       "    <tr>\n",
       "      <th>9880</th>\n",
       "      <td>gone baby, don't be long</td>\n",
       "      <td>1.0</td>\n",
       "    </tr>\n",
       "    <tr>\n",
       "      <th>2070</th>\n",
       "      <td>press it up</td>\n",
       "      <td>1.0</td>\n",
       "    </tr>\n",
       "    <tr>\n",
       "      <th>8227</th>\n",
       "      <td>mesmerise</td>\n",
       "      <td>1.0</td>\n",
       "    </tr>\n",
       "    <tr>\n",
       "      <th>1827</th>\n",
       "      <td>not in love (feat. robert smith) [radio version]</td>\n",
       "      <td>1.0</td>\n",
       "    </tr>\n",
       "    <tr>\n",
       "      <th>4217</th>\n",
       "      <td>big bang baby</td>\n",
       "      <td>1.0</td>\n",
       "    </tr>\n",
       "  </tbody>\n",
       "</table>\n",
       "</div>"
      ],
      "text/plain": [
       "                                                  name  Similarity\n",
       "1760              lovers on the sun (feat. sam martin)         1.0\n",
       "1246                                 if i had a gun...         1.0\n",
       "6880                                   strange comfort         1.0\n",
       "6206                                       express 999         1.0\n",
       "3701                                     wieder winter         1.0\n",
       "2232                                     burning angel         1.0\n",
       "685                        foetus of a new day kicking         1.0\n",
       "8526                                        pick me up         1.0\n",
       "8644                                     find dem flaw         1.0\n",
       "7805                        feel so close - radio edit         1.0\n",
       "9639                                      falling down         1.0\n",
       "9368                        xique bacanizado - ao vivo         1.0\n",
       "538                                         q&a リサイタル!         1.0\n",
       "1972                           you & me - baauer remix         1.0\n",
       "3058                                  so much for love         1.0\n",
       "9880                          gone baby, don't be long         1.0\n",
       "2070                                       press it up         1.0\n",
       "8227                                         mesmerise         1.0\n",
       "1827  not in love (feat. robert smith) [radio version]         1.0\n",
       "4217                                     big bang baby         1.0"
      ]
     },
     "execution_count": 16,
     "metadata": {},
     "output_type": "execute_result"
    }
   ],
   "source": [
    "recommend_by_similarity(songs_df,'Lovers on the Sun (feat. Sam Martin)',20)[['name','Similarity']]"
   ]
  },
  {
   "cell_type": "code",
   "execution_count": null,
   "metadata": {},
   "outputs": [],
   "source": []
  }
 ],
 "metadata": {
  "kernelspec": {
   "display_name": "Python 3",
   "language": "python",
   "name": "python3"
  },
  "language_info": {
   "codemirror_mode": {
    "name": "ipython",
    "version": 3
   },
   "file_extension": ".py",
   "mimetype": "text/x-python",
   "name": "python",
   "nbconvert_exporter": "python",
   "pygments_lexer": "ipython3",
   "version": "3.8.3"
  }
 },
 "nbformat": 4,
 "nbformat_minor": 4
}
