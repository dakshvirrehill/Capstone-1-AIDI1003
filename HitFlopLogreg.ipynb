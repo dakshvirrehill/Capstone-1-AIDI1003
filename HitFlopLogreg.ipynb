{
 "cells": [
  {
   "cell_type": "code",
   "execution_count": 18,
   "metadata": {},
   "outputs": [],
   "source": [
    "import pandas as pd\n",
    "import seaborn as sns\n",
    "import matplotlib.pyplot as plt\n",
    "import numpy as np\n",
    "%matplotlib inline \n",
    "sns.set(color_codes=True)"
   ]
  },
  {
   "cell_type": "code",
   "execution_count": 19,
   "metadata": {},
   "outputs": [],
   "source": [
    "df = pd.read_csv('SongsByGenre.csv')"
   ]
  },
  {
   "cell_type": "code",
   "execution_count": 20,
   "metadata": {},
   "outputs": [
    {
     "name": "stderr",
     "output_type": "stream",
     "text": [
      "<ipython-input-20-67c609080aa1>:1: SettingWithCopyWarning: \n",
      "A value is trying to be set on a copy of a slice from a DataFrame\n",
      "\n",
      "See the caveats in the documentation: https://pandas.pydata.org/pandas-docs/stable/user_guide/indexing.html#returning-a-view-versus-a-copy\n",
      "  df['popularity'][df['popularity'] < 60] = 0\n",
      "<ipython-input-20-67c609080aa1>:2: SettingWithCopyWarning: \n",
      "A value is trying to be set on a copy of a slice from a DataFrame\n",
      "\n",
      "See the caveats in the documentation: https://pandas.pydata.org/pandas-docs/stable/user_guide/indexing.html#returning-a-view-versus-a-copy\n",
      "  df['popularity'][df['popularity'] >= 60] = 1\n"
     ]
    }
   ],
   "source": [
    "df['popularity'][df['popularity'] < 60] = 0\n",
    "df['popularity'][df['popularity'] >= 60] = 1"
   ]
  },
  {
   "cell_type": "code",
   "execution_count": 21,
   "metadata": {},
   "outputs": [],
   "source": [
    "dfw = df.copy()"
   ]
  },
  {
   "cell_type": "code",
   "execution_count": 22,
   "metadata": {},
   "outputs": [
    {
     "data": {
      "text/plain": [
       "0    9092\n",
       "1    1690\n",
       "Name: popularity, dtype: int64"
      ]
     },
     "execution_count": 22,
     "metadata": {},
     "output_type": "execute_result"
    }
   ],
   "source": [
    "df['popularity'].value_counts()"
   ]
  },
  {
   "cell_type": "code",
   "execution_count": 23,
   "metadata": {},
   "outputs": [],
   "source": [
    "x = df.artists.str.get_dummies(sep=';')\n",
    "df = pd.concat([df,x],axis=1)\n",
    "x = df.genre.str.get_dummies(sep=';')\n",
    "df = pd.concat([df,x],axis=1)"
   ]
  },
  {
   "cell_type": "code",
   "execution_count": 24,
   "metadata": {},
   "outputs": [],
   "source": [
    "xdf = df.drop(['id', 'genre', 'album', 'artists', 'name', 'popularity', 'duration_ms'], axis=1)\n",
    "xdfw = dfw.drop(['id', 'genre', 'album', 'artists', 'name', 'popularity', 'duration_ms'], axis=1)"
   ]
  },
  {
   "cell_type": "code",
   "execution_count": 25,
   "metadata": {},
   "outputs": [],
   "source": [
    "ydf = df['popularity']\n",
    "ydfw = dfw['popularity']"
   ]
  },
  {
   "cell_type": "code",
   "execution_count": 26,
   "metadata": {},
   "outputs": [
    {
     "data": {
      "text/html": [
       "<div>\n",
       "<style scoped>\n",
       "    .dataframe tbody tr th:only-of-type {\n",
       "        vertical-align: middle;\n",
       "    }\n",
       "\n",
       "    .dataframe tbody tr th {\n",
       "        vertical-align: top;\n",
       "    }\n",
       "\n",
       "    .dataframe thead th {\n",
       "        text-align: right;\n",
       "    }\n",
       "</style>\n",
       "<table border=\"1\" class=\"dataframe\">\n",
       "  <thead>\n",
       "    <tr style=\"text-align: right;\">\n",
       "      <th></th>\n",
       "      <th>key</th>\n",
       "      <th>mode</th>\n",
       "      <th>time_signature</th>\n",
       "      <th>acousticness</th>\n",
       "      <th>danceability</th>\n",
       "      <th>energy</th>\n",
       "      <th>instrumentalness</th>\n",
       "      <th>liveness</th>\n",
       "      <th>loudness</th>\n",
       "      <th>speechiness</th>\n",
       "      <th>...</th>\n",
       "      <th>summer</th>\n",
       "      <th>swedish</th>\n",
       "      <th>synth-pop</th>\n",
       "      <th>tango</th>\n",
       "      <th>techno</th>\n",
       "      <th>trance</th>\n",
       "      <th>trip-hop</th>\n",
       "      <th>turkish</th>\n",
       "      <th>work-out</th>\n",
       "      <th>world-music</th>\n",
       "    </tr>\n",
       "  </thead>\n",
       "  <tbody>\n",
       "    <tr>\n",
       "      <th>0</th>\n",
       "      <td>0</td>\n",
       "      <td>1</td>\n",
       "      <td>4</td>\n",
       "      <td>0.0840</td>\n",
       "      <td>0.711</td>\n",
       "      <td>0.717</td>\n",
       "      <td>0.000000</td>\n",
       "      <td>0.0900</td>\n",
       "      <td>-4.317</td>\n",
       "      <td>0.0396</td>\n",
       "      <td>...</td>\n",
       "      <td>0</td>\n",
       "      <td>0</td>\n",
       "      <td>0</td>\n",
       "      <td>0</td>\n",
       "      <td>0</td>\n",
       "      <td>0</td>\n",
       "      <td>0</td>\n",
       "      <td>0</td>\n",
       "      <td>0</td>\n",
       "      <td>0</td>\n",
       "    </tr>\n",
       "    <tr>\n",
       "      <th>1</th>\n",
       "      <td>10</td>\n",
       "      <td>1</td>\n",
       "      <td>4</td>\n",
       "      <td>0.8100</td>\n",
       "      <td>0.556</td>\n",
       "      <td>0.284</td>\n",
       "      <td>0.000095</td>\n",
       "      <td>0.1870</td>\n",
       "      <td>-15.177</td>\n",
       "      <td>0.0302</td>\n",
       "      <td>...</td>\n",
       "      <td>0</td>\n",
       "      <td>1</td>\n",
       "      <td>0</td>\n",
       "      <td>0</td>\n",
       "      <td>0</td>\n",
       "      <td>0</td>\n",
       "      <td>0</td>\n",
       "      <td>0</td>\n",
       "      <td>0</td>\n",
       "      <td>0</td>\n",
       "    </tr>\n",
       "    <tr>\n",
       "      <th>2</th>\n",
       "      <td>9</td>\n",
       "      <td>1</td>\n",
       "      <td>4</td>\n",
       "      <td>0.7620</td>\n",
       "      <td>0.714</td>\n",
       "      <td>0.321</td>\n",
       "      <td>0.385000</td>\n",
       "      <td>0.0993</td>\n",
       "      <td>-14.517</td>\n",
       "      <td>0.0428</td>\n",
       "      <td>...</td>\n",
       "      <td>0</td>\n",
       "      <td>0</td>\n",
       "      <td>0</td>\n",
       "      <td>0</td>\n",
       "      <td>0</td>\n",
       "      <td>0</td>\n",
       "      <td>0</td>\n",
       "      <td>0</td>\n",
       "      <td>0</td>\n",
       "      <td>0</td>\n",
       "    </tr>\n",
       "    <tr>\n",
       "      <th>3</th>\n",
       "      <td>11</td>\n",
       "      <td>0</td>\n",
       "      <td>4</td>\n",
       "      <td>0.4250</td>\n",
       "      <td>0.437</td>\n",
       "      <td>0.632</td>\n",
       "      <td>0.000000</td>\n",
       "      <td>0.4450</td>\n",
       "      <td>-6.781</td>\n",
       "      <td>0.0339</td>\n",
       "      <td>...</td>\n",
       "      <td>0</td>\n",
       "      <td>0</td>\n",
       "      <td>0</td>\n",
       "      <td>0</td>\n",
       "      <td>0</td>\n",
       "      <td>0</td>\n",
       "      <td>0</td>\n",
       "      <td>0</td>\n",
       "      <td>0</td>\n",
       "      <td>0</td>\n",
       "    </tr>\n",
       "    <tr>\n",
       "      <th>4</th>\n",
       "      <td>0</td>\n",
       "      <td>1</td>\n",
       "      <td>4</td>\n",
       "      <td>0.0256</td>\n",
       "      <td>0.606</td>\n",
       "      <td>0.826</td>\n",
       "      <td>0.000016</td>\n",
       "      <td>0.1170</td>\n",
       "      <td>-6.040</td>\n",
       "      <td>0.0307</td>\n",
       "      <td>...</td>\n",
       "      <td>0</td>\n",
       "      <td>0</td>\n",
       "      <td>0</td>\n",
       "      <td>0</td>\n",
       "      <td>0</td>\n",
       "      <td>0</td>\n",
       "      <td>0</td>\n",
       "      <td>0</td>\n",
       "      <td>0</td>\n",
       "      <td>0</td>\n",
       "    </tr>\n",
       "    <tr>\n",
       "      <th>...</th>\n",
       "      <td>...</td>\n",
       "      <td>...</td>\n",
       "      <td>...</td>\n",
       "      <td>...</td>\n",
       "      <td>...</td>\n",
       "      <td>...</td>\n",
       "      <td>...</td>\n",
       "      <td>...</td>\n",
       "      <td>...</td>\n",
       "      <td>...</td>\n",
       "      <td>...</td>\n",
       "      <td>...</td>\n",
       "      <td>...</td>\n",
       "      <td>...</td>\n",
       "      <td>...</td>\n",
       "      <td>...</td>\n",
       "      <td>...</td>\n",
       "      <td>...</td>\n",
       "      <td>...</td>\n",
       "      <td>...</td>\n",
       "      <td>...</td>\n",
       "    </tr>\n",
       "    <tr>\n",
       "      <th>10777</th>\n",
       "      <td>2</td>\n",
       "      <td>1</td>\n",
       "      <td>3</td>\n",
       "      <td>0.0299</td>\n",
       "      <td>0.542</td>\n",
       "      <td>0.926</td>\n",
       "      <td>0.006010</td>\n",
       "      <td>0.0892</td>\n",
       "      <td>-3.776</td>\n",
       "      <td>0.0513</td>\n",
       "      <td>...</td>\n",
       "      <td>0</td>\n",
       "      <td>0</td>\n",
       "      <td>0</td>\n",
       "      <td>0</td>\n",
       "      <td>0</td>\n",
       "      <td>0</td>\n",
       "      <td>0</td>\n",
       "      <td>0</td>\n",
       "      <td>0</td>\n",
       "      <td>1</td>\n",
       "    </tr>\n",
       "    <tr>\n",
       "      <th>10778</th>\n",
       "      <td>4</td>\n",
       "      <td>0</td>\n",
       "      <td>4</td>\n",
       "      <td>0.5510</td>\n",
       "      <td>0.567</td>\n",
       "      <td>0.768</td>\n",
       "      <td>0.000000</td>\n",
       "      <td>0.1940</td>\n",
       "      <td>-6.859</td>\n",
       "      <td>0.0686</td>\n",
       "      <td>...</td>\n",
       "      <td>0</td>\n",
       "      <td>0</td>\n",
       "      <td>0</td>\n",
       "      <td>0</td>\n",
       "      <td>0</td>\n",
       "      <td>0</td>\n",
       "      <td>0</td>\n",
       "      <td>0</td>\n",
       "      <td>0</td>\n",
       "      <td>1</td>\n",
       "    </tr>\n",
       "    <tr>\n",
       "      <th>10779</th>\n",
       "      <td>2</td>\n",
       "      <td>0</td>\n",
       "      <td>4</td>\n",
       "      <td>0.4940</td>\n",
       "      <td>0.700</td>\n",
       "      <td>0.838</td>\n",
       "      <td>0.000002</td>\n",
       "      <td>0.1020</td>\n",
       "      <td>-6.694</td>\n",
       "      <td>0.0596</td>\n",
       "      <td>...</td>\n",
       "      <td>0</td>\n",
       "      <td>0</td>\n",
       "      <td>0</td>\n",
       "      <td>0</td>\n",
       "      <td>0</td>\n",
       "      <td>0</td>\n",
       "      <td>0</td>\n",
       "      <td>0</td>\n",
       "      <td>0</td>\n",
       "      <td>1</td>\n",
       "    </tr>\n",
       "    <tr>\n",
       "      <th>10780</th>\n",
       "      <td>1</td>\n",
       "      <td>1</td>\n",
       "      <td>4</td>\n",
       "      <td>0.7220</td>\n",
       "      <td>0.467</td>\n",
       "      <td>0.556</td>\n",
       "      <td>0.777000</td>\n",
       "      <td>0.3550</td>\n",
       "      <td>-13.227</td>\n",
       "      <td>0.0609</td>\n",
       "      <td>...</td>\n",
       "      <td>0</td>\n",
       "      <td>0</td>\n",
       "      <td>0</td>\n",
       "      <td>0</td>\n",
       "      <td>0</td>\n",
       "      <td>0</td>\n",
       "      <td>0</td>\n",
       "      <td>0</td>\n",
       "      <td>0</td>\n",
       "      <td>1</td>\n",
       "    </tr>\n",
       "    <tr>\n",
       "      <th>10781</th>\n",
       "      <td>1</td>\n",
       "      <td>0</td>\n",
       "      <td>4</td>\n",
       "      <td>0.0153</td>\n",
       "      <td>0.729</td>\n",
       "      <td>0.439</td>\n",
       "      <td>0.776000</td>\n",
       "      <td>0.3470</td>\n",
       "      <td>-10.109</td>\n",
       "      <td>0.0402</td>\n",
       "      <td>...</td>\n",
       "      <td>0</td>\n",
       "      <td>0</td>\n",
       "      <td>0</td>\n",
       "      <td>0</td>\n",
       "      <td>0</td>\n",
       "      <td>0</td>\n",
       "      <td>0</td>\n",
       "      <td>0</td>\n",
       "      <td>0</td>\n",
       "      <td>1</td>\n",
       "    </tr>\n",
       "  </tbody>\n",
       "</table>\n",
       "<p>10782 rows × 7225 columns</p>\n",
       "</div>"
      ],
      "text/plain": [
       "       key  mode  time_signature  acousticness  danceability  energy  \\\n",
       "0        0     1               4        0.0840         0.711   0.717   \n",
       "1       10     1               4        0.8100         0.556   0.284   \n",
       "2        9     1               4        0.7620         0.714   0.321   \n",
       "3       11     0               4        0.4250         0.437   0.632   \n",
       "4        0     1               4        0.0256         0.606   0.826   \n",
       "...    ...   ...             ...           ...           ...     ...   \n",
       "10777    2     1               3        0.0299         0.542   0.926   \n",
       "10778    4     0               4        0.5510         0.567   0.768   \n",
       "10779    2     0               4        0.4940         0.700   0.838   \n",
       "10780    1     1               4        0.7220         0.467   0.556   \n",
       "10781    1     0               4        0.0153         0.729   0.439   \n",
       "\n",
       "       instrumentalness  liveness  loudness  speechiness  ...  summer  \\\n",
       "0              0.000000    0.0900    -4.317       0.0396  ...       0   \n",
       "1              0.000095    0.1870   -15.177       0.0302  ...       0   \n",
       "2              0.385000    0.0993   -14.517       0.0428  ...       0   \n",
       "3              0.000000    0.4450    -6.781       0.0339  ...       0   \n",
       "4              0.000016    0.1170    -6.040       0.0307  ...       0   \n",
       "...                 ...       ...       ...          ...  ...     ...   \n",
       "10777          0.006010    0.0892    -3.776       0.0513  ...       0   \n",
       "10778          0.000000    0.1940    -6.859       0.0686  ...       0   \n",
       "10779          0.000002    0.1020    -6.694       0.0596  ...       0   \n",
       "10780          0.777000    0.3550   -13.227       0.0609  ...       0   \n",
       "10781          0.776000    0.3470   -10.109       0.0402  ...       0   \n",
       "\n",
       "       swedish  synth-pop  tango  techno  trance  trip-hop  turkish  work-out  \\\n",
       "0            0          0      0       0       0         0        0         0   \n",
       "1            1          0      0       0       0         0        0         0   \n",
       "2            0          0      0       0       0         0        0         0   \n",
       "3            0          0      0       0       0         0        0         0   \n",
       "4            0          0      0       0       0         0        0         0   \n",
       "...        ...        ...    ...     ...     ...       ...      ...       ...   \n",
       "10777        0          0      0       0       0         0        0         0   \n",
       "10778        0          0      0       0       0         0        0         0   \n",
       "10779        0          0      0       0       0         0        0         0   \n",
       "10780        0          0      0       0       0         0        0         0   \n",
       "10781        0          0      0       0       0         0        0         0   \n",
       "\n",
       "       world-music  \n",
       "0                0  \n",
       "1                0  \n",
       "2                0  \n",
       "3                0  \n",
       "4                0  \n",
       "...            ...  \n",
       "10777            1  \n",
       "10778            1  \n",
       "10779            1  \n",
       "10780            1  \n",
       "10781            1  \n",
       "\n",
       "[10782 rows x 7225 columns]"
      ]
     },
     "execution_count": 26,
     "metadata": {},
     "output_type": "execute_result"
    }
   ],
   "source": [
    "xdf"
   ]
  },
  {
   "cell_type": "code",
   "execution_count": 27,
   "metadata": {},
   "outputs": [
    {
     "data": {
      "text/html": [
       "<div>\n",
       "<style scoped>\n",
       "    .dataframe tbody tr th:only-of-type {\n",
       "        vertical-align: middle;\n",
       "    }\n",
       "\n",
       "    .dataframe tbody tr th {\n",
       "        vertical-align: top;\n",
       "    }\n",
       "\n",
       "    .dataframe thead th {\n",
       "        text-align: right;\n",
       "    }\n",
       "</style>\n",
       "<table border=\"1\" class=\"dataframe\">\n",
       "  <thead>\n",
       "    <tr style=\"text-align: right;\">\n",
       "      <th></th>\n",
       "      <th>key</th>\n",
       "      <th>mode</th>\n",
       "      <th>time_signature</th>\n",
       "      <th>acousticness</th>\n",
       "      <th>danceability</th>\n",
       "      <th>energy</th>\n",
       "      <th>instrumentalness</th>\n",
       "      <th>liveness</th>\n",
       "      <th>loudness</th>\n",
       "      <th>speechiness</th>\n",
       "      <th>valence</th>\n",
       "      <th>tempo</th>\n",
       "    </tr>\n",
       "  </thead>\n",
       "  <tbody>\n",
       "    <tr>\n",
       "      <th>0</th>\n",
       "      <td>0</td>\n",
       "      <td>1</td>\n",
       "      <td>4</td>\n",
       "      <td>0.0840</td>\n",
       "      <td>0.711</td>\n",
       "      <td>0.717</td>\n",
       "      <td>0.000000</td>\n",
       "      <td>0.0900</td>\n",
       "      <td>-4.317</td>\n",
       "      <td>0.0396</td>\n",
       "      <td>0.589</td>\n",
       "      <td>125.949</td>\n",
       "    </tr>\n",
       "    <tr>\n",
       "      <th>1</th>\n",
       "      <td>10</td>\n",
       "      <td>1</td>\n",
       "      <td>4</td>\n",
       "      <td>0.8100</td>\n",
       "      <td>0.556</td>\n",
       "      <td>0.284</td>\n",
       "      <td>0.000095</td>\n",
       "      <td>0.1870</td>\n",
       "      <td>-15.177</td>\n",
       "      <td>0.0302</td>\n",
       "      <td>0.658</td>\n",
       "      <td>130.009</td>\n",
       "    </tr>\n",
       "    <tr>\n",
       "      <th>2</th>\n",
       "      <td>9</td>\n",
       "      <td>1</td>\n",
       "      <td>4</td>\n",
       "      <td>0.7620</td>\n",
       "      <td>0.714</td>\n",
       "      <td>0.321</td>\n",
       "      <td>0.385000</td>\n",
       "      <td>0.0993</td>\n",
       "      <td>-14.517</td>\n",
       "      <td>0.0428</td>\n",
       "      <td>0.477</td>\n",
       "      <td>114.228</td>\n",
       "    </tr>\n",
       "    <tr>\n",
       "      <th>3</th>\n",
       "      <td>11</td>\n",
       "      <td>0</td>\n",
       "      <td>4</td>\n",
       "      <td>0.4250</td>\n",
       "      <td>0.437</td>\n",
       "      <td>0.632</td>\n",
       "      <td>0.000000</td>\n",
       "      <td>0.4450</td>\n",
       "      <td>-6.781</td>\n",
       "      <td>0.0339</td>\n",
       "      <td>0.332</td>\n",
       "      <td>72.845</td>\n",
       "    </tr>\n",
       "    <tr>\n",
       "      <th>4</th>\n",
       "      <td>0</td>\n",
       "      <td>1</td>\n",
       "      <td>4</td>\n",
       "      <td>0.0256</td>\n",
       "      <td>0.606</td>\n",
       "      <td>0.826</td>\n",
       "      <td>0.000016</td>\n",
       "      <td>0.1170</td>\n",
       "      <td>-6.040</td>\n",
       "      <td>0.0307</td>\n",
       "      <td>0.322</td>\n",
       "      <td>121.040</td>\n",
       "    </tr>\n",
       "    <tr>\n",
       "      <th>...</th>\n",
       "      <td>...</td>\n",
       "      <td>...</td>\n",
       "      <td>...</td>\n",
       "      <td>...</td>\n",
       "      <td>...</td>\n",
       "      <td>...</td>\n",
       "      <td>...</td>\n",
       "      <td>...</td>\n",
       "      <td>...</td>\n",
       "      <td>...</td>\n",
       "      <td>...</td>\n",
       "      <td>...</td>\n",
       "    </tr>\n",
       "    <tr>\n",
       "      <th>10777</th>\n",
       "      <td>2</td>\n",
       "      <td>1</td>\n",
       "      <td>3</td>\n",
       "      <td>0.0299</td>\n",
       "      <td>0.542</td>\n",
       "      <td>0.926</td>\n",
       "      <td>0.006010</td>\n",
       "      <td>0.0892</td>\n",
       "      <td>-3.776</td>\n",
       "      <td>0.0513</td>\n",
       "      <td>0.748</td>\n",
       "      <td>100.951</td>\n",
       "    </tr>\n",
       "    <tr>\n",
       "      <th>10778</th>\n",
       "      <td>4</td>\n",
       "      <td>0</td>\n",
       "      <td>4</td>\n",
       "      <td>0.5510</td>\n",
       "      <td>0.567</td>\n",
       "      <td>0.768</td>\n",
       "      <td>0.000000</td>\n",
       "      <td>0.1940</td>\n",
       "      <td>-6.859</td>\n",
       "      <td>0.0686</td>\n",
       "      <td>0.686</td>\n",
       "      <td>127.220</td>\n",
       "    </tr>\n",
       "    <tr>\n",
       "      <th>10779</th>\n",
       "      <td>2</td>\n",
       "      <td>0</td>\n",
       "      <td>4</td>\n",
       "      <td>0.4940</td>\n",
       "      <td>0.700</td>\n",
       "      <td>0.838</td>\n",
       "      <td>0.000002</td>\n",
       "      <td>0.1020</td>\n",
       "      <td>-6.694</td>\n",
       "      <td>0.0596</td>\n",
       "      <td>0.957</td>\n",
       "      <td>124.852</td>\n",
       "    </tr>\n",
       "    <tr>\n",
       "      <th>10780</th>\n",
       "      <td>1</td>\n",
       "      <td>1</td>\n",
       "      <td>4</td>\n",
       "      <td>0.7220</td>\n",
       "      <td>0.467</td>\n",
       "      <td>0.556</td>\n",
       "      <td>0.777000</td>\n",
       "      <td>0.3550</td>\n",
       "      <td>-13.227</td>\n",
       "      <td>0.0609</td>\n",
       "      <td>0.547</td>\n",
       "      <td>146.358</td>\n",
       "    </tr>\n",
       "    <tr>\n",
       "      <th>10781</th>\n",
       "      <td>1</td>\n",
       "      <td>0</td>\n",
       "      <td>4</td>\n",
       "      <td>0.0153</td>\n",
       "      <td>0.729</td>\n",
       "      <td>0.439</td>\n",
       "      <td>0.776000</td>\n",
       "      <td>0.3470</td>\n",
       "      <td>-10.109</td>\n",
       "      <td>0.0402</td>\n",
       "      <td>0.301</td>\n",
       "      <td>79.671</td>\n",
       "    </tr>\n",
       "  </tbody>\n",
       "</table>\n",
       "<p>10782 rows × 12 columns</p>\n",
       "</div>"
      ],
      "text/plain": [
       "       key  mode  time_signature  acousticness  danceability  energy  \\\n",
       "0        0     1               4        0.0840         0.711   0.717   \n",
       "1       10     1               4        0.8100         0.556   0.284   \n",
       "2        9     1               4        0.7620         0.714   0.321   \n",
       "3       11     0               4        0.4250         0.437   0.632   \n",
       "4        0     1               4        0.0256         0.606   0.826   \n",
       "...    ...   ...             ...           ...           ...     ...   \n",
       "10777    2     1               3        0.0299         0.542   0.926   \n",
       "10778    4     0               4        0.5510         0.567   0.768   \n",
       "10779    2     0               4        0.4940         0.700   0.838   \n",
       "10780    1     1               4        0.7220         0.467   0.556   \n",
       "10781    1     0               4        0.0153         0.729   0.439   \n",
       "\n",
       "       instrumentalness  liveness  loudness  speechiness  valence    tempo  \n",
       "0              0.000000    0.0900    -4.317       0.0396    0.589  125.949  \n",
       "1              0.000095    0.1870   -15.177       0.0302    0.658  130.009  \n",
       "2              0.385000    0.0993   -14.517       0.0428    0.477  114.228  \n",
       "3              0.000000    0.4450    -6.781       0.0339    0.332   72.845  \n",
       "4              0.000016    0.1170    -6.040       0.0307    0.322  121.040  \n",
       "...                 ...       ...       ...          ...      ...      ...  \n",
       "10777          0.006010    0.0892    -3.776       0.0513    0.748  100.951  \n",
       "10778          0.000000    0.1940    -6.859       0.0686    0.686  127.220  \n",
       "10779          0.000002    0.1020    -6.694       0.0596    0.957  124.852  \n",
       "10780          0.777000    0.3550   -13.227       0.0609    0.547  146.358  \n",
       "10781          0.776000    0.3470   -10.109       0.0402    0.301   79.671  \n",
       "\n",
       "[10782 rows x 12 columns]"
      ]
     },
     "execution_count": 27,
     "metadata": {},
     "output_type": "execute_result"
    }
   ],
   "source": [
    "xdfw"
   ]
  },
  {
   "cell_type": "markdown",
   "metadata": {},
   "source": [
    "## Model1's are with artist and genre boolean columns\n",
    "## Model2's are without artist and genre"
   ]
  },
  {
   "cell_type": "markdown",
   "metadata": {},
   "source": [
    "***\n",
    "# Logistic Regression"
   ]
  },
  {
   "cell_type": "code",
   "execution_count": 47,
   "metadata": {},
   "outputs": [],
   "source": [
    "from sklearn.linear_model import LogisticRegression\n",
    "from sklearn.model_selection import train_test_split\n",
    "from sklearn.metrics import accuracy_score\n",
    "from sklearn.metrics import precision_score\n",
    "from sklearn.metrics import recall_score\n",
    "from sklearn.preprocessing import LabelEncoder\n",
    "from sklearn.metrics import average_precision_score"
   ]
  },
  {
   "cell_type": "code",
   "execution_count": 48,
   "metadata": {},
   "outputs": [],
   "source": [
    "(X_train, X_test, y_train, y_test) = train_test_split(xdf, ydf, test_size=0.3, random_state=0)\n",
    "(xtr, xts, ytr, yts) = train_test_split(xdfw, ydfw, test_size=0.3, random_state=0)"
   ]
  },
  {
   "cell_type": "code",
   "execution_count": 30,
   "metadata": {},
   "outputs": [
    {
     "data": {
      "text/plain": [
       "LogisticRegression(max_iter=10000)"
      ]
     },
     "execution_count": 30,
     "metadata": {},
     "output_type": "execute_result"
    }
   ],
   "source": [
    "model = LogisticRegression(max_iter=10000)\n",
    "model.fit(X_train, y_train)"
   ]
  },
  {
   "cell_type": "code",
   "execution_count": 31,
   "metadata": {},
   "outputs": [
    {
     "data": {
      "text/plain": [
       "LogisticRegression(max_iter=10000)"
      ]
     },
     "execution_count": 31,
     "metadata": {},
     "output_type": "execute_result"
    }
   ],
   "source": [
    "model2 = LogisticRegression(max_iter=10000)\n",
    "model2.fit(xtr, ytr)"
   ]
  },
  {
   "cell_type": "markdown",
   "metadata": {},
   "source": [
    "Train Data"
   ]
  },
  {
   "cell_type": "code",
   "execution_count": 50,
   "metadata": {},
   "outputs": [
    {
     "name": "stdout",
     "output_type": "stream",
     "text": [
      "Accuracy  0.9170531336955081\n",
      "Precision 0.5488013698630136\n",
      "Recall  0.8662162162162163\n"
     ]
    },
    {
     "data": {
      "text/plain": [
       "{0: 6807, 1: 740}"
      ]
     },
     "execution_count": 50,
     "metadata": {},
     "output_type": "execute_result"
    }
   ],
   "source": [
    "predict = model.predict(X_train)\n",
    "print('Accuracy ',accuracy_score(predict, y_train))\n",
    "print('Precision', precision_score(predict, y_train))\n",
    "print('Recall ',recall_score(predict, y_train))\n",
    "unique, counts = np.unique(predict, return_counts=True)\n",
    "dict(zip(unique, counts))"
   ]
  },
  {
   "cell_type": "markdown",
   "metadata": {},
   "source": [
    "Test data"
   ]
  },
  {
   "cell_type": "code",
   "execution_count": 51,
   "metadata": {},
   "outputs": [
    {
     "name": "stdout",
     "output_type": "stream",
     "text": [
      "Accuracy  0.8865533230293663\n",
      "Precision 0.46551724137931033\n",
      "Recall  0.7341389728096677\n"
     ]
    },
    {
     "data": {
      "text/plain": [
       "{0: 2904, 1: 331}"
      ]
     },
     "execution_count": 51,
     "metadata": {},
     "output_type": "execute_result"
    }
   ],
   "source": [
    "predict = model.predict(X_test)\n",
    "print('Accuracy ',accuracy_score(predict, y_test))\n",
    "print('Precision', precision_score(predict, y_test))\n",
    "print('Recall ',recall_score(predict, y_test))\n",
    "unique, counts = np.unique(predict, return_counts=True)\n",
    "dict(zip(unique, counts))"
   ]
  },
  {
   "cell_type": "code",
   "execution_count": 33,
   "metadata": {},
   "outputs": [
    {
     "name": "stdout",
     "output_type": "stream",
     "text": [
      "0.845236517821651\n",
      "0.0\n",
      "0.0\n"
     ]
    },
    {
     "name": "stderr",
     "output_type": "stream",
     "text": [
      "C:\\Users\\umutc\\anaconda3\\lib\\site-packages\\sklearn\\metrics\\_classification.py:1221: UndefinedMetricWarning: Recall is ill-defined and being set to 0.0 due to no true samples. Use `zero_division` parameter to control this behavior.\n",
      "  _warn_prf(average, modifier, msg_start, len(result))\n"
     ]
    },
    {
     "data": {
      "text/plain": [
       "{0: 7547}"
      ]
     },
     "execution_count": 33,
     "metadata": {},
     "output_type": "execute_result"
    }
   ],
   "source": [
    "predictw = model2.predict(xtr)\n",
    "print(accuracy_score(predictw, ytr))\n",
    "print(precision_score(predictw, ytr))\n",
    "print(recall_score(predictw, ytr))\n",
    "uniquew, countsw = np.unique(predictw, return_counts=True)\n",
    "dict(zip(uniquew, countsw))"
   ]
  },
  {
   "cell_type": "markdown",
   "metadata": {},
   "source": [
    "# With PCA"
   ]
  },
  {
   "cell_type": "code",
   "execution_count": 52,
   "metadata": {},
   "outputs": [],
   "source": [
    "from sklearn.decomposition import PCA\n",
    "\n",
    "pca = PCA(n_components=2)\n",
    "pca.fit(xdf)\n",
    "X = pca.transform(xdf)\n",
    "pca2 = PCA(n_components=2)\n",
    "pca2.fit(xdfw)\n",
    "Xw = pca2.transform(xdfw)"
   ]
  },
  {
   "cell_type": "code",
   "execution_count": 53,
   "metadata": {},
   "outputs": [],
   "source": [
    "(X_train, X_test, y_train, y_test) = train_test_split(X, ydf, test_size=0.3, random_state=0)\n",
    "(xtr, xts, ytr, yts) = train_test_split(Xw, ydfw, test_size=0.3, random_state=0)"
   ]
  },
  {
   "cell_type": "code",
   "execution_count": 54,
   "metadata": {},
   "outputs": [
    {
     "data": {
      "text/plain": [
       "LogisticRegression()"
      ]
     },
     "execution_count": 54,
     "metadata": {},
     "output_type": "execute_result"
    }
   ],
   "source": [
    "pcamodel = LogisticRegression()\n",
    "pcamodel.fit(X_train, y_train)"
   ]
  },
  {
   "cell_type": "code",
   "execution_count": 55,
   "metadata": {},
   "outputs": [
    {
     "data": {
      "text/plain": [
       "LogisticRegression()"
      ]
     },
     "execution_count": 55,
     "metadata": {},
     "output_type": "execute_result"
    }
   ],
   "source": [
    "pcamodel2 = LogisticRegression()\n",
    "pcamodel2.fit(xtr, ytr)"
   ]
  },
  {
   "cell_type": "code",
   "execution_count": 56,
   "metadata": {},
   "outputs": [
    {
     "name": "stdout",
     "output_type": "stream",
     "text": [
      "0.845236517821651\n"
     ]
    },
    {
     "data": {
      "text/plain": [
       "{0: 7547}"
      ]
     },
     "execution_count": 56,
     "metadata": {},
     "output_type": "execute_result"
    }
   ],
   "source": [
    "predict = pcamodel.predict(X_train)\n",
    "print(accuracy_score(predict, y_train))\n",
    "unique, counts = np.unique(predict, return_counts=True)\n",
    "dict(zip(unique, counts))"
   ]
  },
  {
   "cell_type": "code",
   "execution_count": 57,
   "metadata": {},
   "outputs": [
    {
     "name": "stdout",
     "output_type": "stream",
     "text": [
      "0.845236517821651\n"
     ]
    },
    {
     "data": {
      "text/plain": [
       "{0: 7547}"
      ]
     },
     "execution_count": 57,
     "metadata": {},
     "output_type": "execute_result"
    }
   ],
   "source": [
    "predictw = pcamodel2.predict(xtr)\n",
    "print(accuracy_score(predictw, ytr))\n",
    "uniquew, countsw = np.unique(predictw, return_counts=True)\n",
    "dict(zip(uniquew, countsw))"
   ]
  },
  {
   "cell_type": "code",
   "execution_count": null,
   "metadata": {},
   "outputs": [],
   "source": []
  }
 ],
 "metadata": {
  "kernelspec": {
   "display_name": "Python 3",
   "language": "python",
   "name": "python3"
  },
  "language_info": {
   "codemirror_mode": {
    "name": "ipython",
    "version": 3
   },
   "file_extension": ".py",
   "mimetype": "text/x-python",
   "name": "python",
   "nbconvert_exporter": "python",
   "pygments_lexer": "ipython3",
   "version": "3.8.3"
  }
 },
 "nbformat": 4,
 "nbformat_minor": 4
}
