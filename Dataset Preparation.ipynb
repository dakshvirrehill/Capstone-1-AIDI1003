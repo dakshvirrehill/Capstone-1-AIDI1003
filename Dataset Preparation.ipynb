{
 "cells": [
  {
   "cell_type": "markdown",
   "metadata": {},
   "source": [
    "///-------------------------------------------------------------------------------------------------<br>\n",
    "// File: Dataset Preparation.ipynb<br>\n",
    "//<br>\n",
    "// Author: Dakshvir Singh Rehill<br>\n",
    "// Date: 14/10/2020<br>\n",
    "//<br>\n",
    "// Summary:\tThis notebook is used to generate the dataset from Spotify API<br>\n",
    "///-------------------------------------------------------------------------------------------------\n",
    "***"
   ]
  },
  {
   "cell_type": "markdown",
   "metadata": {},
   "source": [
    "## Get Songs from Spotify API\n",
    "***\n",
    "1. Import spotipy package\n",
    "2. Use spotipy to set up App Credentials\n",
    "3. Search for each artist\n",
    "5. Import pandas package\n",
    "4. Create DataFrame with Artist Details\n",
    "***"
   ]
  },
  {
   "cell_type": "code",
   "execution_count": 1,
   "metadata": {
    "scrolled": true
   },
   "outputs": [],
   "source": [
    "import spotipy\n",
    "from spotipy.oauth2 import SpotifyClientCredentials\n",
    "import numpy as np\n",
    "import pandas as pd\n",
    "from IPython.display import display\n",
    "import lyricsgenius as lg\n",
    "import nltk"
   ]
  },
  {
   "cell_type": "code",
   "execution_count": 2,
   "metadata": {},
   "outputs": [],
   "source": [
    "words = set(nltk.corpus.words.words())\n",
    "sp = spotipy.Spotify(auth_manager=SpotifyClientCredentials(client_id=\"7f839484fcf4450db86dcc9126cec5e1\",\\\n",
    "                                client_secret=\"80e9b5a936a44b2880354a719ef54019\", requests_timeout = None))\n",
    "genius_connection = lg.Genius('KuT5Uj1s1SGxHfFQ7CuNNhIiV8K0P9_ZSdH76YfOh2-qflcWn-VJrY_YE8p9HPIA')"
   ]
  },
  {
   "cell_type": "code",
   "execution_count": null,
   "metadata": {},
   "outputs": [],
   "source": [
    "#get all possible genres and get songs of those genres\n",
    "genres = sp.recommendation_genre_seeds()\n",
    "genres = genres['genres']\n",
    "tracks_by_genre = []\n",
    "for genre in genres:\n",
    "    tracks = sp.recommendations(seed_genres = [genre],country='CA',limit = 100)\n",
    "    for track in tracks['tracks']:\n",
    "        artist_list = []\n",
    "        for artist_obj in track['artists']:\n",
    "            artist_list.append(artist_obj['name'])\n",
    "        track_dict = {'id' : track['id'] , 'name' : track['name'] , 'popularity' : track['popularity'], 'genre' : genre\\\n",
    "                     ,'album' : track['album']['name'], 'artists' : ';'.join(artist_list)}\n",
    "        tracks_by_genre.append(track_dict)\n",
    "tracks_by_genre_df = pd.DataFrame(tracks_by_genre)\n",
    "tracks_by_genre_df.head()"
   ]
  },
  {
   "cell_type": "code",
   "execution_count": null,
   "metadata": {},
   "outputs": [],
   "source": [
    "tracks_by_genre_df.shape"
   ]
  },
  {
   "cell_type": "code",
   "execution_count": null,
   "metadata": {},
   "outputs": [],
   "source": [
    "song_features = []\n",
    "track_ids = tracks_by_genre_df.id.tolist()\n",
    "for i in range(0,len(track_ids) - 100,100):\n",
    "    end_val = i + 100\n",
    "    if end_val > len(track_ids):\n",
    "        end_val = len(track_ids)\n",
    "    audio_features_obj = sp.audio_features(tracks = track_ids[i:end_val])\n",
    "    for audio_feature in audio_features_obj:\n",
    "        if audio_feature is not None:\n",
    "            features = {'id':audio_feature['id'],'key':audio_feature['key'],'mode':audio_feature['mode'],\\\n",
    "                        'time_signature':audio_feature['time_signature'],'acousticness':audio_feature['acousticness'],\\\n",
    "                        'danceability':audio_feature['danceability'],'energy':audio_feature['energy'],'instrumentalness':audio_feature['instrumentalness'],\\\n",
    "                        'liveness':audio_feature['liveness'],'loudness':audio_feature['loudness'],'speechiness':audio_feature['speechiness'],\\\n",
    "                        'valence':audio_feature['valence'],'tempo':audio_feature['tempo'],'duration_ms':audio_feature['duration_ms']}\n",
    "            song_features.append(features)\n",
    "song_features_df = pd.DataFrame(song_features)\n",
    "song_features_df.shape"
   ]
  },
  {
   "cell_type": "code",
   "execution_count": null,
   "metadata": {},
   "outputs": [],
   "source": [
    "song_features_df.head()"
   ]
  },
  {
   "cell_type": "markdown",
   "metadata": {},
   "source": [
    "## Remove Songs without Audio Features\n",
    "***\n",
    "1. Songs that have missing audio features can't be used in Dataset so will be removed\n",
    "***"
   ]
  },
  {
   "cell_type": "code",
   "execution_count": null,
   "metadata": {
    "scrolled": true
   },
   "outputs": [],
   "source": [
    "top_songs_df = pd.merge(tracks_by_genre_df,song_features_df, on = 'id')"
   ]
  },
  {
   "cell_type": "code",
   "execution_count": null,
   "metadata": {},
   "outputs": [],
   "source": [
    "top_songs_df.head()"
   ]
  },
  {
   "cell_type": "code",
   "execution_count": null,
   "metadata": {},
   "outputs": [],
   "source": [
    "top_songs_df.shape"
   ]
  },
  {
   "cell_type": "code",
   "execution_count": null,
   "metadata": {},
   "outputs": [],
   "source": [
    "unique_ids = top_songs_df.id.unique().tolist()\n",
    "for id in unique_ids:\n",
    "    index = top_songs_df.id == id\n",
    "    if sum(index) == 1:\n",
    "        continue\n",
    "    genres = top_songs_df[index].genre.tolist()\n",
    "    genres = [str(genre) for genre in genres]\n",
    "    genre_val = ';'.join(genres)\n",
    "    top_songs_df.loc[index,'genre'] = genre_val"
   ]
  },
  {
   "cell_type": "code",
   "execution_count": null,
   "metadata": {},
   "outputs": [],
   "source": [
    "top_songs_df.head()"
   ]
  },
  {
   "cell_type": "code",
   "execution_count": null,
   "metadata": {},
   "outputs": [],
   "source": [
    "top_songs_df.drop_duplicates(inplace=True)"
   ]
  },
  {
   "cell_type": "code",
   "execution_count": 3,
   "metadata": {},
   "outputs": [],
   "source": [
    "top_songs_df = pd.read_csv('SongsByGenre.csv')"
   ]
  },
  {
   "cell_type": "code",
   "execution_count": 4,
   "metadata": {},
   "outputs": [
    {
     "data": {
      "text/plain": [
       "(10782, 19)"
      ]
     },
     "execution_count": 4,
     "metadata": {},
     "output_type": "execute_result"
    }
   ],
   "source": [
    "top_songs_df.shape"
   ]
  },
  {
   "cell_type": "code",
   "execution_count": 5,
   "metadata": {},
   "outputs": [],
   "source": [
    "genius_connection.verbose = False\n",
    "genius_connection.skip_non_songs = True\n",
    "def get_lyrics(song,album):\n",
    "    lyrics = np.nan\n",
    "    try:\n",
    "        song_data = genius_connection.search_song(song + \" \" + album)\n",
    "    except:\n",
    "        song_data = None\n",
    "    if song_data is not None:\n",
    "        lyrics = song_data.lyrics\n",
    "        lyrics = \" \".join(w for w in nltk.wordpunct_tokenize(lyrics) if w.lower() in words or not w.isalpha())\n",
    "    return lyrics"
   ]
  },
  {
   "cell_type": "code",
   "execution_count": 6,
   "metadata": {},
   "outputs": [
    {
     "data": {
      "text/plain": [
       "\"[ Hook ] I swear this house I it come , I used to bounce through it Now every time my dad he stupid to me Found you in [ Verse 1 ] , that ’ s my , Small as , don ’ t deserve to be a township Around 2 : 00 in the afternoon town ’ s booming But no area or downtown to sit Why two ’ s , ? Too many safe ways home Born after Y2K , turns out we ’ re ‘ for anxiety on society and low [ Hook ] I swear this house I it come , I used to bounce through it Now every time my dad he stupid to me Round 2 , bitch [ Verse 2 ] but no personality North to south probably only a mile , B No , signal when Look between the margin you see that are urgent The perfect suburban town you ’ ever about Need to get around , I never learn the route Quite quiet , you wake up when the ’ shout Streets are empty , no play like down Never had a snow day , perpetual drought Precipitation , when rain never go out No on the couch and a maid for the house Need a gardener to ensure that the will sprout [ Hook ] I swear this house I it come , I used to bounce through it Now every time my dad he stupid to me Found you in [ Verse 3 ] A nice house on some land always full got some soda Sprite Hide some secret stuff below the It got me like a cobra bite hand But no paraphernalia , ’ s are Protecting me from that ’ just happen later Thank God I ’ m not prepared for drank dropping out on Also dank , dropping acid I should not be aware Wear a rubber when I ’ m just sitting with ‘ Case I nut like a squirrel up my world I feel constrained every day my touch the ceiling hanging off the bed such a weird feeling I got to get out of my house and This town I ’ m in is the way too mountainous I ‘ m bound to miss this But right now this is not for me Thank God I ’ m ' bout to leave [ Hook ] I swear this house I it come , I used to bounce through it Now every time my dad he stupid to me\""
      ]
     },
     "execution_count": 6,
     "metadata": {},
     "output_type": "execute_result"
    }
   ],
   "source": [
    "get_lyrics(top_songs_df['name'].iloc[0],top_songs_df['album'].iloc[0]) #test"
   ]
  },
  {
   "cell_type": "code",
   "execution_count": 7,
   "metadata": {},
   "outputs": [
    {
     "name": "stdout",
     "output_type": "stream",
     "text": [
      "Timeout raised and caught:\n",
      "HTTPSConnectionPool(host='genius.com', port=443): Read timed out. (read timeout=5)\n",
      "Timeout raised and caught:\n",
      "HTTPSConnectionPool(host='genius.com', port=443): Read timed out. (read timeout=5)\n",
      "Timeout raised and caught:\n",
      "HTTPSConnectionPool(host='api.genius.com', port=443): Read timed out. (read timeout=5)\n",
      "Timeout raised and caught:\n",
      "HTTPSConnectionPool(host='genius.com', port=443): Read timed out. (read timeout=5)\n",
      "Timeout raised and caught:\n",
      "HTTPSConnectionPool(host='genius.com', port=443): Read timed out. (read timeout=5)\n",
      "Timeout raised and caught:\n",
      "HTTPSConnectionPool(host='api.genius.com', port=443): Read timed out. (read timeout=5)\n",
      "Timeout raised and caught:\n",
      "HTTPSConnectionPool(host='genius.com', port=443): Read timed out. (read timeout=5)\n",
      "Timeout raised and caught:\n",
      "HTTPSConnectionPool(host='api.genius.com', port=443): Read timed out. (read timeout=5)\n",
      "Timeout raised and caught:\n",
      "HTTPSConnectionPool(host='genius.com', port=443): Read timed out. (read timeout=5)\n",
      "Timeout raised and caught:\n",
      "HTTPSConnectionPool(host='api.genius.com', port=443): Read timed out. (read timeout=5)\n"
     ]
    },
    {
     "data": {
      "text/plain": [
       "id                     0\n",
       "name                   0\n",
       "popularity             0\n",
       "genre                  0\n",
       "album                  0\n",
       "artists                0\n",
       "key                    0\n",
       "mode                   0\n",
       "time_signature         0\n",
       "acousticness           0\n",
       "danceability           0\n",
       "energy                 0\n",
       "instrumentalness       0\n",
       "liveness               0\n",
       "loudness               0\n",
       "speechiness            0\n",
       "valence                0\n",
       "tempo                  0\n",
       "duration_ms            0\n",
       "lyrics              3700\n",
       "dtype: int64"
      ]
     },
     "execution_count": 7,
     "metadata": {},
     "output_type": "execute_result"
    }
   ],
   "source": [
    "top_songs_df['lyrics'] = ''\n",
    "for iX, row in top_songs_df.iterrows():\n",
    "    top_songs_df.loc[iX,'lyrics'] = get_lyrics(row['name'],row['album'])\n",
    "top_songs_df.isnull().sum()"
   ]
  },
  {
   "cell_type": "code",
   "execution_count": 9,
   "metadata": {},
   "outputs": [],
   "source": [
    "#retry for missing values\n",
    "for iX, rows in top_songs_df[top_songs_df.lyrics.isnull()].iterrows():\n",
    "    top_songs_df.loc[iX,'lyrics'] = get_lyrics(row['name'],row['album'])"
   ]
  },
  {
   "cell_type": "code",
   "execution_count": 10,
   "metadata": {},
   "outputs": [
    {
     "data": {
      "text/plain": [
       "id                     0\n",
       "name                   0\n",
       "popularity             0\n",
       "genre                  0\n",
       "album                  0\n",
       "artists                0\n",
       "key                    0\n",
       "mode                   0\n",
       "time_signature         0\n",
       "acousticness           0\n",
       "danceability           0\n",
       "energy                 0\n",
       "instrumentalness       0\n",
       "liveness               0\n",
       "loudness               0\n",
       "speechiness            0\n",
       "valence                0\n",
       "tempo                  0\n",
       "duration_ms            0\n",
       "lyrics              3700\n",
       "dtype: int64"
      ]
     },
     "execution_count": 10,
     "metadata": {},
     "output_type": "execute_result"
    }
   ],
   "source": [
    "top_songs_df.isnull().sum()"
   ]
  },
  {
   "cell_type": "code",
   "execution_count": 11,
   "metadata": {},
   "outputs": [],
   "source": [
    "top_songs_df.to_csv('SongsByGenre.csv', index=False)"
   ]
  },
  {
   "cell_type": "code",
   "execution_count": null,
   "metadata": {},
   "outputs": [],
   "source": []
  }
 ],
 "metadata": {
  "kernelspec": {
   "display_name": "Python 3",
   "language": "python",
   "name": "python3"
  },
  "language_info": {
   "codemirror_mode": {
    "name": "ipython",
    "version": 3
   },
   "file_extension": ".py",
   "mimetype": "text/x-python",
   "name": "python",
   "nbconvert_exporter": "python",
   "pygments_lexer": "ipython3",
   "version": "3.8.3"
  }
 },
 "nbformat": 4,
 "nbformat_minor": 4
}
