{
 "cells": [
  {
   "cell_type": "markdown",
   "metadata": {},
   "source": [
    "///-------------------------------------------------------------------------------------------------<br>\n",
    "// File: Dataset Preparation.ipynb<br>\n",
    "//<br>\n",
    "// Author: Dakshvir Singh Rehill<br>\n",
    "// Date: 14/10/2020<br>\n",
    "//<br>\n",
    "// Summary:\tThis notebook is used to generate the dataset from DJMag Top 100 DJs and Spotify API<br>\n",
    "///-------------------------------------------------------------------------------------------------\n",
    "***"
   ]
  },
  {
   "cell_type": "markdown",
   "metadata": {},
   "source": [
    "## Get Top 100 DJs from DJMag\n",
    "***\n",
    "1. Import requests package\n",
    "2. Use requests to fetch Top 100 page from DJMag\n",
    "3. Import beautifulsoup package\n",
    "4. Use beautifulsoup to get DJ name\n",
    "***"
   ]
  },
  {
   "cell_type": "code",
   "execution_count": 1,
   "metadata": {
    "scrolled": true
   },
   "outputs": [],
   "source": [
    "import requests\n",
    "from bs4 import BeautifulSoup\n",
    "mScrapeURL = 'https://djmag.com/top100dj?year=2019'\n",
    "mPageHTML = requests.get(mScrapeURL)\n",
    "mParsedObject = BeautifulSoup(mPageHTML.content, 'html.parser')\n",
    "mDJNameElemList = mParsedObject.find_all('div',class_='top100dj-name')\n",
    "mDJNamesList = []\n",
    "for aDJNameElem in mDJNameElemList:\n",
    "    mDJNamesList.append(aDJNameElem.find('a').text)"
   ]
  },
  {
   "cell_type": "markdown",
   "metadata": {},
   "source": [
    "## Get DJ Popularity, ID from Spotify API\n",
    "***\n",
    "1. Import spotipy package\n",
    "2. Use spotipy to set up App Credentials\n",
    "3. Search for each artist\n",
    "5. Import pandas package\n",
    "4. Create DataFrame with Artist Details\n",
    "***"
   ]
  },
  {
   "cell_type": "code",
   "execution_count": 2,
   "metadata": {
    "scrolled": true
   },
   "outputs": [],
   "source": [
    "import spotipy\n",
    "from spotipy.oauth2 import SpotifyClientCredentials\n",
    "import numpy as mNP\n",
    "import pandas as mPandasObj\n",
    "from IPython.display import display\n",
    "mSpotifyClient = spotipy.Spotify(auth_manager=SpotifyClientCredentials(client_id=\"7f839484fcf4450db86dcc9126cec5e1\",\\\n",
    "                                client_secret=\"80e9b5a936a44b2880354a719ef54019\", requests_timeout = None))"
   ]
  },
  {
   "cell_type": "code",
   "execution_count": 3,
   "metadata": {
    "scrolled": true
   },
   "outputs": [
    {
     "data": {
      "text/plain": [
       "(100, 3)"
      ]
     },
     "execution_count": 3,
     "metadata": {},
     "output_type": "execute_result"
    }
   ],
   "source": [
    "mArtistList = []\n",
    "for aArtistName in mDJNamesList:\n",
    "    aSelectedArtist = {'id' : '','name' : '','popularity' : 0}\n",
    "    aSearchResult = mSpotifyClient.search(q=aArtistName,type='artist',market='CA')\n",
    "    for aArtist in aSearchResult['artists']['items']:\n",
    "        if aSelectedArtist['popularity'] <= aArtist['popularity']:\n",
    "            aSelectedArtist['id'] = aArtist['id']\n",
    "            aSelectedArtist['name'] = aArtist['name']\n",
    "            aSelectedArtist['popularity'] = aArtist['popularity']\n",
    "    mArtistList.append(aSelectedArtist)\n",
    "mArtistDataset = mPandasObj.DataFrame(mArtistList)\n",
    "mArtistDataset.shape"
   ]
  },
  {
   "cell_type": "markdown",
   "metadata": {},
   "source": [
    "## Get Top 150 songs of each Artist\n",
    "***\n",
    "1. Search for type track using artist name\n",
    "2. Get ID, Name, Popularity of Track and concatenate into Artist DataFrame\n",
    "3. Store each dataframe in list\n",
    "4. Concatenate all dataframes into one dataset\n",
    "***"
   ]
  },
  {
   "cell_type": "code",
   "execution_count": 4,
   "metadata": {
    "scrolled": true
   },
   "outputs": [
    {
     "data": {
      "text/plain": [
       "(14617, 4)"
      ]
     },
     "execution_count": 4,
     "metadata": {},
     "output_type": "execute_result"
    }
   ],
   "source": [
    "mAllArtistDFList = []\n",
    "for aArtist in mArtistList:\n",
    "    aArtistDFList = []\n",
    "    for aCurOffset in range(0,150,50):\n",
    "        aTopSongSearchResult = mSpotifyClient.search(q=aArtist['name'],type='track',market='CA',offset=aCurOffset,limit=50)\n",
    "        aTopSongDF =mPandasObj.DataFrame(aTopSongSearchResult['tracks']['items'],columns=['id','name','popularity'])\n",
    "        aArtistDFList.append(aTopSongDF)\n",
    "    aArtistTopSongDF = mPandasObj.concat(aArtistDFList)\n",
    "    aArtistTopSongDF['artist_id'] = aArtist['id']\n",
    "    mAllArtistDFList.append(aArtistTopSongDF)\n",
    "mTopDJSongsDF = mPandasObj.concat(mAllArtistDFList)\n",
    "mTopDJSongsDF.shape"
   ]
  },
  {
   "cell_type": "markdown",
   "metadata": {},
   "source": [
    "## Get Audio Features of All songs in TopSongs DF\n",
    "***\n",
    "1. Use Audio Features function to get all audio features\n",
    "2. Get 'id', 'key', 'mode', 'time_signature', 'acousticness', 'danceability', 'energy', 'instrumentalness' ,'liveness' ,'loudness' ,'speechiness' ,'valence' ,'tempo' ,'duration_ms' and concatenate into one DF\n",
    "3. Store each dataframe in list\n",
    "4. Concatenate all dataframes into one dataset\n",
    "***"
   ]
  },
  {
   "cell_type": "code",
   "execution_count": 6,
   "metadata": {
    "scrolled": true
   },
   "outputs": [
    {
     "data": {
      "text/plain": [
       "(14917, 14)"
      ]
     },
     "execution_count": 6,
     "metadata": {},
     "output_type": "execute_result"
    }
   ],
   "source": [
    "mAllArtistFeatureDFList = []\n",
    "for aArtistDF in mAllArtistDFList:\n",
    "    aIDList = aArtistDF[:100]['id'].tolist()\n",
    "    aAudioFeatures = mSpotifyClient.audio_features(tracks = aIDList)\n",
    "    aFeatureDictList = []\n",
    "    for aAF in aAudioFeatures:\n",
    "        if aAF is not None:\n",
    "            aReqValF = {'id':aAF['id'],'key':aAF['key'],'mode':aAF['mode'],'time_signature':aAF['time_signature'],\\\n",
    "                        'acousticness':aAF['acousticness'], 'danceability':aAF['danceability'],'energy':aAF['energy'],\\\n",
    "                       'instrumentalness':aAF['instrumentalness'],'liveness':aAF['liveness'],'loudness':aAF['loudness'],\\\n",
    "                       'speechiness':aAF['speechiness'],'valence':aAF['valence'],'tempo':aAF['tempo'],'duration_ms':aAF['duration_ms']}\n",
    "            aFeatureDictList.append(aReqValF)\n",
    "    aIDList = aArtistDF[-50:]['id'].tolist()\n",
    "    aAudioFeatures = mSpotifyClient.audio_features(tracks = aIDList)\n",
    "    for aAF in aAudioFeatures:\n",
    "        if aAF is not None:\n",
    "            aReqValF = {'id':aAF['id'],'key':aAF['key'],'mode':aAF['mode'],'time_signature':aAF['time_signature'],\\\n",
    "                        'acousticness':aAF['acousticness'], 'danceability':aAF['danceability'],'energy':aAF['energy'],\\\n",
    "                       'instrumentalness':aAF['instrumentalness'],'liveness':aAF['liveness'],'loudness':aAF['loudness'],\\\n",
    "                       'speechiness':aAF['speechiness'],'valence':aAF['valence'],'tempo':aAF['tempo'],'duration_ms':aAF['duration_ms']}\n",
    "            aFeatureDictList.append(aReqValF)\n",
    "    aFeatureDF = mPandasObj.DataFrame(aFeatureDictList)\n",
    "    mAllArtistFeatureDFList.append(aFeatureDF)\n",
    "mSongFeaturesDF = mPandasObj.concat(mAllArtistFeatureDFList)\n",
    "mSongFeaturesDF.shape"
   ]
  },
  {
   "cell_type": "markdown",
   "metadata": {},
   "source": [
    "## Remove Songs without Audio Features\n",
    "***\n",
    "1. Songs that have missing audio features can't be used in Dataset so will be removed\n",
    "***"
   ]
  },
  {
   "cell_type": "code",
   "execution_count": 7,
   "metadata": {
    "scrolled": true
   },
   "outputs": [],
   "source": [
    "mSongFeaturesDF.drop_duplicates(inplace=True)\n",
    "mTopDJSongsDF = mTopDJSongsDF[mTopDJSongsDF['id'].isin(mSongFeaturesDF['id'])]\n",
    "mTopDJSongsDF.drop_duplicates(inplace=True)"
   ]
  },
  {
   "cell_type": "code",
   "execution_count": 8,
   "metadata": {},
   "outputs": [
    {
     "data": {
      "text/plain": [
       "(13959, 14)"
      ]
     },
     "execution_count": 8,
     "metadata": {},
     "output_type": "execute_result"
    }
   ],
   "source": [
    "mSongFeaturesDF.shape"
   ]
  },
  {
   "cell_type": "code",
   "execution_count": 9,
   "metadata": {},
   "outputs": [
    {
     "data": {
      "text/plain": [
       "(14608, 4)"
      ]
     },
     "execution_count": 9,
     "metadata": {},
     "output_type": "execute_result"
    }
   ],
   "source": [
    "mTopDJSongsDF.shape"
   ]
  },
  {
   "cell_type": "markdown",
   "metadata": {},
   "source": [
    "## Create Datasets for Audio Analysis of Songs\n",
    "***\n",
    "1. Use track ID from TopSongs to fetch Audio Analysis of Songs\n",
    "2. Create various tables for all Audio Analysis values\n",
    "3. Store and save as Datasets\n",
    "***"
   ]
  },
  {
   "cell_type": "code",
   "execution_count": 10,
   "metadata": {},
   "outputs": [],
   "source": [
    "def AddSongsToAnalysisDF(pSongIDs,pSegmentID):\n",
    "    mMissingAnalysisIDs = []\n",
    "    mSongTimeFrameDF = []\n",
    "    mSongSectionsDF = []\n",
    "    mSongSegmentsDF = []\n",
    "    mSongPitchesDF = []\n",
    "    mSongTimbreDF = []\n",
    "    for aSongID in pSongIDs:\n",
    "        aSongAnalysisObj = None\n",
    "        try:\n",
    "            aSongAnalysisObj = mSpotifyClient.audio_analysis(aSongID)\n",
    "        except:\n",
    "            aSongAnalysisObj = None\n",
    "            print(\"Can't find Song Analysis for Song\", aSongID)\n",
    "        if aSongAnalysisObj is None:\n",
    "            mMissingAnalysisIDs.append(aSongID)\n",
    "            continue\n",
    "        aTempList = []\n",
    "        for aBars in aSongAnalysisObj['bars']:\n",
    "            aReqBarVal = {'song_id':aSongID,'start':aBars['start'],'duration':aBars['duration'],'confidence':aBars['confidence'],\\\n",
    "                         'type':'Bar'}\n",
    "            aTempList.append(aReqBarVal)\n",
    "        for aBeats in aSongAnalysisObj['beats']:\n",
    "            aReqBeatVal = {'song_id':aSongID,'start':aBeats['start'],'duration':aBeats['duration'],'confidence':aBeats['confidence'],\\\n",
    "                         'type':'Beat'}\n",
    "            aTempList.append(aReqBeatVal)\n",
    "        for aTatums in aSongAnalysisObj['tatums']:\n",
    "            aReqTatumVal = {'song_id':aSongID,'start':aTatums['start'],'duration':aTatums['duration'],'confidence':aTatums['confidence'],\\\n",
    "                         'type':'Tatum'}\n",
    "            aTempList.append(aReqTatumVal)\n",
    "        mSongTimeFrameDF.append(mPandasObj.DataFrame(aTempList))\n",
    "        aTempList = []\n",
    "        for aSections in aSongAnalysisObj['sections']:\n",
    "            aReqSectVal = {'song_id':aSongID, 'start':aSections['start'], 'duration':aSections['duration'],\\\n",
    "                           'confidence':aSections['confidence'], 'loudness':aSections['loudness'], 'tempo':aSections['tempo'],\\\n",
    "                           'tempo_confidence':aSections['tempo_confidence'], 'key':aSections['key'],\\\n",
    "                           'key_confidence':aSections['key_confidence'], 'mode':aSections['mode'],\\\n",
    "                           'mode_confidence':aSections['mode_confidence'], 'time_signature':aSections['time_signature'],\\\n",
    "                           'time_signature_confidence':aSections['time_signature_confidence']}\n",
    "            aTempList.append(aReqSectVal)\n",
    "        mSongSectionsDF.append(mPandasObj.DataFrame(aTempList))\n",
    "        aTempList = []\n",
    "        aTimbreList = []\n",
    "        aPitchList = []\n",
    "        for aSegments in aSongAnalysisObj['segments']:\n",
    "            aReqSegVal = {'song_id':aSongID,'id':pSegmentID, 'start':aSegments['start'], 'duration':aSegments['duration'],\\\n",
    "                           'confidence':aSegments['confidence'], 'loudness_start':aSegments['loudness_start'],\\\n",
    "                         'loudness_max':aSegments['loudness_max'], 'loudness_max_time':aSegments['loudness_max_time'],\\\n",
    "                         'loudness_end':aSegments['loudness_end']}\n",
    "            aTempList.append(aReqSegVal)\n",
    "            aReqPitchVal = {'segment_id':pSegmentID, 'I':aSegments['pitches'][0] ,'II':aSegments['pitches'][1] ,\\\n",
    "                            'III':aSegments['pitches'][2] ,'IV':aSegments['pitches'][3] ,'V':aSegments['pitches'][4] ,\\\n",
    "                            'VI':aSegments['pitches'][5] ,'VII':aSegments['pitches'][6] ,'VIII':aSegments['pitches'][7] ,\\\n",
    "                            'IX':aSegments['pitches'][8] ,'X':aSegments['pitches'][9] ,'XI':aSegments['pitches'][10] ,\\\n",
    "                            'XII':aSegments['pitches'][11] }\n",
    "            aPitchList.append(aReqPitchVal)\n",
    "            aReqTimbreVal = {'segment_id':pSegmentID, 'I':aSegments['timbre'][0] ,'II':aSegments['timbre'][1] ,\\\n",
    "                            'III':aSegments['timbre'][2] ,'IV':aSegments['timbre'][3] ,'V':aSegments['timbre'][4] ,\\\n",
    "                            'VI':aSegments['timbre'][5] ,'VII':aSegments['timbre'][6] ,'VIII':aSegments['timbre'][7] ,\\\n",
    "                            'IX':aSegments['timbre'][8] ,'X':aSegments['timbre'][9] ,'XI':aSegments['timbre'][10] ,\\\n",
    "                            'XII':aSegments['timbre'][11] }\n",
    "            aTimbreList.append(aReqTimbreVal)\n",
    "            pSegmentID = pSegmentID + 1\n",
    "        mSongSegmentsDF.append(mPandasObj.DataFrame(aTempList))\n",
    "        mSongPitchesDF.append(mPandasObj.DataFrame(aPitchList))\n",
    "        mSongTimbreDF.append(mPandasObj.DataFrame(aTimbreList))\n",
    "    return mMissingAnalysisIDs, mSongTimeFrameDF, mSongSectionsDF, mSongSegmentsDF, mSongPitchesDF, mSongTimbreDF, pSegmentID"
   ]
  },
  {
   "cell_type": "code",
   "execution_count": 13,
   "metadata": {
    "scrolled": true
   },
   "outputs": [
    {
     "name": "stdout",
     "output_type": "stream",
     "text": [
      "Songs Scraped =  74 Missing Values =  0\n",
      "Songs Scraped =  148 Missing Values =  0\n",
      "Songs Scraped =  222 Missing Values =  0\n",
      "Songs Scraped =  296 Missing Values =  0\n",
      "Songs Scraped =  370 Missing Values =  0\n",
      "Songs Scraped =  444 Missing Values =  0\n",
      "Songs Scraped =  518 Missing Values =  0\n",
      "Songs Scraped =  592 Missing Values =  0\n",
      "Songs Scraped =  665 Missing Values =  0\n",
      "Songs Scraped =  738 Missing Values =  0\n",
      "Songs Scraped =  811 Missing Values =  0\n",
      "Songs Scraped =  884 Missing Values =  0\n",
      "Songs Scraped =  957 Missing Values =  0\n",
      "Songs Scraped =  1030 Missing Values =  0\n",
      "Can't find Song Analysis for Song 0NIC4unbe5KZOp1d9T7OaF\n",
      "Songs Scraped =  1103 Missing Values =  1\n",
      "Can't find Song Analysis for Song 6Uq65N2DJzKwBj8QBcJ5Xu\n",
      "Songs Scraped =  1176 Missing Values =  2\n",
      "Songs Scraped =  1249 Missing Values =  2\n",
      "Can't find Song Analysis for Song 318BLBNwOt9H0RrQv0Eiwj\n",
      "Songs Scraped =  1322 Missing Values =  3\n",
      "Songs Scraped =  1395 Missing Values =  3\n",
      "Can't find Song Analysis for Song 1BeTdfec8Kowv2QIU5o4IN\n",
      "Songs Scraped =  1468 Missing Values =  4\n",
      "Songs Scraped =  1541 Missing Values =  4\n",
      "Songs Scraped =  1614 Missing Values =  4\n",
      "Songs Scraped =  1687 Missing Values =  4\n",
      "Songs Scraped =  1760 Missing Values =  4\n",
      "Songs Scraped =  1833 Missing Values =  4\n",
      "Songs Scraped =  1906 Missing Values =  4\n",
      "Songs Scraped =  1979 Missing Values =  4\n",
      "Can't find Song Analysis for Song 2L8nPHkX7M6DjHNxnTaRvw\n",
      "Can't find Song Analysis for Song 7IMGshuSNOXHgmboboPpIH\n",
      "Songs Scraped =  2052 Missing Values =  6\n",
      "Songs Scraped =  2125 Missing Values =  6\n",
      "Songs Scraped =  2198 Missing Values =  6\n",
      "Songs Scraped =  2271 Missing Values =  6\n",
      "Songs Scraped =  2344 Missing Values =  6\n",
      "Songs Scraped =  2417 Missing Values =  6\n",
      "Songs Scraped =  2490 Missing Values =  6\n",
      "Songs Scraped =  2563 Missing Values =  6\n",
      "Songs Scraped =  2636 Missing Values =  6\n",
      "Songs Scraped =  2709 Missing Values =  6\n",
      "Songs Scraped =  2782 Missing Values =  6\n",
      "Songs Scraped =  2855 Missing Values =  6\n",
      "Songs Scraped =  2928 Missing Values =  6\n",
      "Songs Scraped =  3001 Missing Values =  6\n",
      "Songs Scraped =  3074 Missing Values =  6\n",
      "Songs Scraped =  3147 Missing Values =  6\n",
      "Songs Scraped =  3220 Missing Values =  6\n",
      "Songs Scraped =  3293 Missing Values =  6\n",
      "Songs Scraped =  3366 Missing Values =  6\n",
      "Songs Scraped =  3439 Missing Values =  6\n",
      "Songs Scraped =  3512 Missing Values =  6\n",
      "Songs Scraped =  3585 Missing Values =  6\n",
      "Songs Scraped =  3658 Missing Values =  6\n",
      "Can't find Song Analysis for Song 5PPaoMsSGrS9MV7itFzNnJ\n",
      "Can't find Song Analysis for Song 6cLgFDhBF2zwXatgYDlICd\n",
      "Songs Scraped =  3731 Missing Values =  8\n",
      "Songs Scraped =  3804 Missing Values =  8\n",
      "Songs Scraped =  3877 Missing Values =  8\n",
      "Songs Scraped =  3950 Missing Values =  8\n",
      "Songs Scraped =  4023 Missing Values =  8\n"
     ]
    },
    {
     "name": "stderr",
     "output_type": "stream",
     "text": [
      "Max Retries reached\n"
     ]
    },
    {
     "name": "stdout",
     "output_type": "stream",
     "text": [
      "Can't find Song Analysis for Song 2R5eUSyhOKNNPw7zzLZwEL\n",
      "Songs Scraped =  4096 Missing Values =  9\n",
      "Songs Scraped =  4169 Missing Values =  9\n",
      "Songs Scraped =  4242 Missing Values =  9\n",
      "Can't find Song Analysis for Song 7IHOijI3bz8jHRvhXzPks9\n",
      "Songs Scraped =  4315 Missing Values =  10\n",
      "Songs Scraped =  4388 Missing Values =  10\n",
      "Songs Scraped =  4461 Missing Values =  10\n",
      "Songs Scraped =  4534 Missing Values =  10\n",
      "Songs Scraped =  4607 Missing Values =  10\n",
      "Songs Scraped =  4680 Missing Values =  10\n",
      "Can't find Song Analysis for Song 1V6WjZGuJGH0Wg9HbaqVQ3\n",
      "Songs Scraped =  4753 Missing Values =  11\n",
      "Can't find Song Analysis for Song 5Pth046ihwuyXcetLXtQdn\n",
      "Songs Scraped =  4826 Missing Values =  12\n",
      "Songs Scraped =  4899 Missing Values =  12\n",
      "Songs Scraped =  4972 Missing Values =  12\n",
      "Songs Scraped =  5045 Missing Values =  12\n"
     ]
    },
    {
     "name": "stderr",
     "output_type": "stream",
     "text": [
      "Max Retries reached\n"
     ]
    },
    {
     "name": "stdout",
     "output_type": "stream",
     "text": [
      "Can't find Song Analysis for Song 1j5BvC67aRkHaqX93G0Et4\n",
      "Songs Scraped =  5118 Missing Values =  13\n"
     ]
    },
    {
     "name": "stderr",
     "output_type": "stream",
     "text": [
      "Max Retries reached\n"
     ]
    },
    {
     "name": "stdout",
     "output_type": "stream",
     "text": [
      "Can't find Song Analysis for Song 5CRUYbExDj1jaqhhY0oxrQ\n",
      "Songs Scraped =  5191 Missing Values =  14\n"
     ]
    },
    {
     "name": "stderr",
     "output_type": "stream",
     "text": [
      "Max Retries reached\n"
     ]
    },
    {
     "name": "stdout",
     "output_type": "stream",
     "text": [
      "Can't find Song Analysis for Song 4joSJSEcddADmMgXSl9cvj\n",
      "Songs Scraped =  5264 Missing Values =  15\n",
      "Songs Scraped =  5337 Missing Values =  15\n",
      "Songs Scraped =  5410 Missing Values =  15\n",
      "Can't find Song Analysis for Song 1G0wfuX5JUYIh7UfJj1vy9\n",
      "Songs Scraped =  5483 Missing Values =  16\n",
      "Can't find Song Analysis for Song 1BfLBkvFu8LELJswBOJuOJ\n",
      "Can't find Song Analysis for Song 643zcsE7vA53LOJ9oiX8ry\n",
      "Songs Scraped =  5556 Missing Values =  18\n",
      "Can't find Song Analysis for Song 5S72wG4ALVc120dvJAXLN2\n",
      "Songs Scraped =  5629 Missing Values =  19\n",
      "Songs Scraped =  5702 Missing Values =  19\n",
      "Can't find Song Analysis for Song 0CefCZvrNuTyPn9SA695Na\n",
      "Songs Scraped =  5775 Missing Values =  20\n",
      "Songs Scraped =  5848 Missing Values =  20\n",
      "Songs Scraped =  5921 Missing Values =  20\n",
      "Songs Scraped =  5994 Missing Values =  20\n",
      "Can't find Song Analysis for Song 1iJHitxTcTARB8P387PcZL\n",
      "Songs Scraped =  6067 Missing Values =  21\n",
      "Songs Scraped =  6140 Missing Values =  21\n",
      "Can't find Song Analysis for Song 6ldG9ZHzOcBRigiCJAfPWq\n",
      "Can't find Song Analysis for Song 2pzztKjQ7RsBnL1BkHMmo5\n",
      "Songs Scraped =  6213 Missing Values =  23\n",
      "Songs Scraped =  6286 Missing Values =  23\n",
      "Songs Scraped =  6359 Missing Values =  23\n",
      "Songs Scraped =  6432 Missing Values =  23\n",
      "Songs Scraped =  6505 Missing Values =  23\n",
      "Songs Scraped =  6578 Missing Values =  23\n",
      "Songs Scraped =  6651 Missing Values =  23\n",
      "Songs Scraped =  6724 Missing Values =  23\n",
      "Can't find Song Analysis for Song 6TM6uuJiTWotqQrCoQdbpg\n",
      "Can't find Song Analysis for Song 4yXiI9bwoh6wc1Pv72kMyH\n",
      "Songs Scraped =  6797 Missing Values =  25\n",
      "Songs Scraped =  6870 Missing Values =  25\n",
      "Songs Scraped =  6943 Missing Values =  25\n",
      "Songs Scraped =  7016 Missing Values =  25\n",
      "Songs Scraped =  7089 Missing Values =  25\n",
      "Songs Scraped =  7162 Missing Values =  25\n",
      "Songs Scraped =  7235 Missing Values =  25\n",
      "Songs Scraped =  7308 Missing Values =  25\n",
      "Can't find Song Analysis for Song 3acHQsIoaXtCPX96CDgivm\n",
      "Songs Scraped =  7381 Missing Values =  26\n",
      "Songs Scraped =  7454 Missing Values =  26\n",
      "Can't find Song Analysis for Song 6HdscUCfIQn2URGz5jnmfo\n",
      "Can't find Song Analysis for Song 2FKi5eUlBTbOX6aHBkiAlW\n",
      "Can't find Song Analysis for Song 5IjtQZydLCMzlzgkeVGJga\n",
      "Songs Scraped =  7527 Missing Values =  29\n",
      "Can't find Song Analysis for Song 2m628qar8cDAm3ZRbGq5jY\n",
      "Songs Scraped =  7600 Missing Values =  30\n",
      "Songs Scraped =  7673 Missing Values =  30\n",
      "Songs Scraped =  7746 Missing Values =  30\n",
      "Songs Scraped =  7819 Missing Values =  30\n",
      "Can't find Song Analysis for Song 0dH4nysQBwvB8SL9bMGwpD\n",
      "Can't find Song Analysis for Song 2lw81WFq6nIZqosL1g3VjM\n",
      "Songs Scraped =  7892 Missing Values =  32\n",
      "Songs Scraped =  7965 Missing Values =  32\n",
      "Songs Scraped =  8038 Missing Values =  32\n",
      "Songs Scraped =  8111 Missing Values =  32\n",
      "Songs Scraped =  8184 Missing Values =  32\n",
      "Songs Scraped =  8257 Missing Values =  32\n",
      "Songs Scraped =  8330 Missing Values =  32\n",
      "Songs Scraped =  8403 Missing Values =  32\n",
      "Songs Scraped =  8476 Missing Values =  32\n",
      "Songs Scraped =  8549 Missing Values =  32\n",
      "Can't find Song Analysis for Song 3Q8lXdOkI6KBlyDLkvwRsS\n",
      "Songs Scraped =  8622 Missing Values =  33\n",
      "Songs Scraped =  8695 Missing Values =  33\n",
      "Can't find Song Analysis for Song 2uOBavfuawhtWS54jZ5At0\n",
      "Songs Scraped =  8768 Missing Values =  34\n",
      "Songs Scraped =  8841 Missing Values =  34\n",
      "Songs Scraped =  8914 Missing Values =  34\n",
      "Songs Scraped =  8987 Missing Values =  34\n",
      "Songs Scraped =  9060 Missing Values =  34\n",
      "Songs Scraped =  9133 Missing Values =  34\n",
      "Songs Scraped =  9206 Missing Values =  34\n",
      "Songs Scraped =  9279 Missing Values =  34\n",
      "Can't find Song Analysis for Song 0nJNCKn09WfL2Eou1MmX2p\n",
      "Songs Scraped =  9352 Missing Values =  35\n",
      "Songs Scraped =  9425 Missing Values =  35\n",
      "Songs Scraped =  9498 Missing Values =  35\n",
      "Songs Scraped =  9571 Missing Values =  35\n",
      "Can't find Song Analysis for Song 08Lj331RN3yPYxYHVSPBWV\n",
      "Songs Scraped =  9644 Missing Values =  36\n",
      "Songs Scraped =  9717 Missing Values =  36\n",
      "Can't find Song Analysis for Song 1cqT0arkW5vM88C7awnuge\n",
      "Songs Scraped =  9790 Missing Values =  37\n",
      "Songs Scraped =  9863 Missing Values =  37\n",
      "Songs Scraped =  9936 Missing Values =  37\n",
      "Songs Scraped =  10009 Missing Values =  37\n",
      "Songs Scraped =  10082 Missing Values =  37\n",
      "Songs Scraped =  10155 Missing Values =  37\n",
      "Songs Scraped =  10228 Missing Values =  37\n",
      "Songs Scraped =  10301 Missing Values =  37\n",
      "Songs Scraped =  10374 Missing Values =  37\n",
      "Can't find Song Analysis for Song 2AqazcPtVXn7uhFIyInNNp\n",
      "Can't find Song Analysis for Song 0NYLmWSEs8L1TkfYzOsnDa\n",
      "Songs Scraped =  10447 Missing Values =  39\n",
      "Songs Scraped =  10520 Missing Values =  39\n",
      "Can't find Song Analysis for Song 2wGdlUAFpYNx702XebnQHH\n",
      "Songs Scraped =  10593 Missing Values =  40\n",
      "Songs Scraped =  10666 Missing Values =  40\n",
      "Songs Scraped =  10739 Missing Values =  40\n",
      "Songs Scraped =  10812 Missing Values =  40\n",
      "Songs Scraped =  10885 Missing Values =  40\n",
      "Songs Scraped =  10958 Missing Values =  40\n",
      "Can't find Song Analysis for Song 0wpyHQiScrGRZkENzSmOo5\n",
      "Songs Scraped =  11031 Missing Values =  41\n",
      "Songs Scraped =  11104 Missing Values =  41\n",
      "Songs Scraped =  11177 Missing Values =  41\n",
      "Songs Scraped =  11250 Missing Values =  41\n",
      "Songs Scraped =  11323 Missing Values =  41\n",
      "Songs Scraped =  11396 Missing Values =  41\n",
      "Songs Scraped =  11469 Missing Values =  41\n",
      "Songs Scraped =  11542 Missing Values =  41\n",
      "Songs Scraped =  11615 Missing Values =  41\n",
      "Songs Scraped =  11688 Missing Values =  41\n"
     ]
    },
    {
     "name": "stderr",
     "output_type": "stream",
     "text": [
      "Max Retries reached\n"
     ]
    },
    {
     "name": "stdout",
     "output_type": "stream",
     "text": [
      "Can't find Song Analysis for Song 5Eovehbodc2RnxbX5jNziD\n",
      "Songs Scraped =  11761 Missing Values =  42\n",
      "Songs Scraped =  11834 Missing Values =  42\n",
      "Songs Scraped =  11907 Missing Values =  42\n",
      "Songs Scraped =  11980 Missing Values =  42\n",
      "Songs Scraped =  12053 Missing Values =  42\n",
      "Songs Scraped =  12126 Missing Values =  42\n",
      "Can't find Song Analysis for Song 63jDDzy3lKkkN2DneZne2v\n",
      "Can't find Song Analysis for Song 2aVXRvnIvlrnBYM2p0FA21\n",
      "Can't find Song Analysis for Song 4Br5TcVQMAl0y3jIGaMzop\n",
      "Songs Scraped =  12199 Missing Values =  45\n",
      "Songs Scraped =  12272 Missing Values =  45\n",
      "Songs Scraped =  12345 Missing Values =  45\n",
      "Songs Scraped =  12418 Missing Values =  45\n"
     ]
    },
    {
     "name": "stderr",
     "output_type": "stream",
     "text": [
      "Max Retries reached\n"
     ]
    },
    {
     "name": "stdout",
     "output_type": "stream",
     "text": [
      "Can't find Song Analysis for Song 7GmduX2jLvglcqwy3AoKd2\n",
      "Songs Scraped =  12491 Missing Values =  46\n"
     ]
    },
    {
     "name": "stderr",
     "output_type": "stream",
     "text": [
      "Max Retries reached\n"
     ]
    },
    {
     "name": "stdout",
     "output_type": "stream",
     "text": [
      "Can't find Song Analysis for Song 0x54YhUlMCBANwNVpZwVLT\n",
      "Can't find Song Analysis for Song 5lyAkZPAC2ydlJDKSKYODo\n",
      "Songs Scraped =  12564 Missing Values =  48\n",
      "Songs Scraped =  12637 Missing Values =  48\n",
      "Songs Scraped =  12710 Missing Values =  48\n"
     ]
    },
    {
     "name": "stderr",
     "output_type": "stream",
     "text": [
      "HTTP Error for GET to https://api.spotify.com/v1/audio-analysis/5OgeotnaQT50D8A6DzeASa returned 404 due to analysis not found\n"
     ]
    },
    {
     "name": "stdout",
     "output_type": "stream",
     "text": [
      "Can't find Song Analysis for Song 5OgeotnaQT50D8A6DzeASa\n",
      "Can't find Song Analysis for Song 7zCFk8BECFUdp8VU39Daaa\n",
      "Songs Scraped =  12783 Missing Values =  50\n",
      "Songs Scraped =  12856 Missing Values =  50\n",
      "Songs Scraped =  12929 Missing Values =  50\n",
      "Songs Scraped =  13002 Missing Values =  50\n",
      "Songs Scraped =  13075 Missing Values =  50\n",
      "Songs Scraped =  13148 Missing Values =  50\n",
      "Songs Scraped =  13221 Missing Values =  50\n",
      "Songs Scraped =  13294 Missing Values =  50\n",
      "Songs Scraped =  13367 Missing Values =  50\n"
     ]
    },
    {
     "name": "stderr",
     "output_type": "stream",
     "text": [
      "Max Retries reached\n"
     ]
    },
    {
     "name": "stdout",
     "output_type": "stream",
     "text": [
      "Can't find Song Analysis for Song 6jOKMYPz4v8BQpViYAMuhM\n",
      "Songs Scraped =  13440 Missing Values =  51\n",
      "Songs Scraped =  13513 Missing Values =  51\n",
      "Songs Scraped =  13586 Missing Values =  51\n",
      "Songs Scraped =  13659 Missing Values =  51\n",
      "Can't find Song Analysis for Song 6b5q26NZnb52jVJlOUlWpx\n",
      "Songs Scraped =  13732 Missing Values =  52\n",
      "Songs Scraped =  13805 Missing Values =  52\n",
      "Songs Scraped =  13878 Missing Values =  52\n",
      "Songs Scraped =  13951 Missing Values =  52\n",
      "Songs Scraped =  14024 Missing Values =  52\n",
      "Songs Scraped =  14097 Missing Values =  52\n",
      "Songs Scraped =  14170 Missing Values =  52\n",
      "Songs Scraped =  14243 Missing Values =  52\n",
      "Songs Scraped =  14316 Missing Values =  52\n",
      "Songs Scraped =  14389 Missing Values =  52\n",
      "Songs Scraped =  14462 Missing Values =  52\n",
      "Songs Scraped =  14535 Missing Values =  52\n"
     ]
    },
    {
     "name": "stderr",
     "output_type": "stream",
     "text": [
      "Max Retries reached\n"
     ]
    },
    {
     "name": "stdout",
     "output_type": "stream",
     "text": [
      "Can't find Song Analysis for Song 2gAna3NvvtxLOw4d06YbaU\n",
      "Songs Scraped =  14608 Missing Values =  53\n"
     ]
    },
    {
     "name": "stderr",
     "output_type": "stream",
     "text": [
      "Max Retries reached\n"
     ]
    },
    {
     "name": "stdout",
     "output_type": "stream",
     "text": [
      "Can't find Song Analysis for Song 2R5eUSyhOKNNPw7zzLZwEL\n"
     ]
    },
    {
     "name": "stderr",
     "output_type": "stream",
     "text": [
      "Max Retries reached\n"
     ]
    },
    {
     "name": "stdout",
     "output_type": "stream",
     "text": [
      "Can't find Song Analysis for Song 1j5BvC67aRkHaqX93G0Et4\n"
     ]
    },
    {
     "name": "stderr",
     "output_type": "stream",
     "text": [
      "Max Retries reached\n"
     ]
    },
    {
     "name": "stdout",
     "output_type": "stream",
     "text": [
      "Can't find Song Analysis for Song 5CRUYbExDj1jaqhhY0oxrQ\n"
     ]
    },
    {
     "name": "stderr",
     "output_type": "stream",
     "text": [
      "Max Retries reached\n"
     ]
    },
    {
     "name": "stdout",
     "output_type": "stream",
     "text": [
      "Can't find Song Analysis for Song 4joSJSEcddADmMgXSl9cvj\n"
     ]
    },
    {
     "name": "stderr",
     "output_type": "stream",
     "text": [
      "Max Retries reached\n"
     ]
    },
    {
     "name": "stdout",
     "output_type": "stream",
     "text": [
      "Can't find Song Analysis for Song 5Eovehbodc2RnxbX5jNziD\n"
     ]
    },
    {
     "name": "stderr",
     "output_type": "stream",
     "text": [
      "Max Retries reached\n"
     ]
    },
    {
     "name": "stdout",
     "output_type": "stream",
     "text": [
      "Can't find Song Analysis for Song 7GmduX2jLvglcqwy3AoKd2\n"
     ]
    },
    {
     "name": "stderr",
     "output_type": "stream",
     "text": [
      "Max Retries reached\n"
     ]
    },
    {
     "name": "stdout",
     "output_type": "stream",
     "text": [
      "Can't find Song Analysis for Song 0x54YhUlMCBANwNVpZwVLT\n"
     ]
    },
    {
     "name": "stderr",
     "output_type": "stream",
     "text": [
      "HTTP Error for GET to https://api.spotify.com/v1/audio-analysis/5OgeotnaQT50D8A6DzeASa returned 404 due to analysis not found\n"
     ]
    },
    {
     "name": "stdout",
     "output_type": "stream",
     "text": [
      "Can't find Song Analysis for Song 5OgeotnaQT50D8A6DzeASa\n"
     ]
    },
    {
     "name": "stderr",
     "output_type": "stream",
     "text": [
      "Max Retries reached\n"
     ]
    },
    {
     "name": "stdout",
     "output_type": "stream",
     "text": [
      "Can't find Song Analysis for Song 6jOKMYPz4v8BQpViYAMuhM\n"
     ]
    },
    {
     "name": "stderr",
     "output_type": "stream",
     "text": [
      "Max Retries reached\n"
     ]
    },
    {
     "name": "stdout",
     "output_type": "stream",
     "text": [
      "Can't find Song Analysis for Song 2gAna3NvvtxLOw4d06YbaU\n"
     ]
    }
   ],
   "source": [
    "mMissingAnalysisIDs = []\n",
    "mSongTimeFrameDF = []\n",
    "mSongSectionsDF = []\n",
    "mSongSegmentsDF = []\n",
    "mSongPitchesDF = []\n",
    "mSongTimbreDF = []\n",
    "\n",
    "aSegmentID = 1\n",
    "\n",
    "mSongIDs = mTopDJSongsDF['id']\n",
    "mSongIDSplits = mNP.array_split(mSongIDs, 200)\n",
    "\n",
    "aTotalSongs = 0\n",
    "\n",
    "for aSongIDList in mSongIDSplits:\n",
    "    aMissingIDs, aTimeFrameDF, aSectionsDF, aSegmentDF, aPitchDF, aTimbreDF, aSegmentID =\\\n",
    "    AddSongsToAnalysisDF(aSongIDList, aSegmentID)\n",
    "    mMissingAnalysisIDs.extend(aMissingIDs)\n",
    "    mSongTimeFrameDF.extend(aTimeFrameDF)\n",
    "    mSongSectionsDF.extend(aSectionsDF)\n",
    "    mSongSegmentsDF.extend(aSegmentDF)\n",
    "    mSongPitchesDF.extend(aPitchDF)\n",
    "    mSongTimbreDF.extend(aTimbreDF)\n",
    "    aTotalSongs = aTotalSongs + len(aSongIDList)\n",
    "    print(\"Songs Scraped = \",aTotalSongs, \"Missing Values = \", len(mMissingAnalysisIDs))\n",
    "\n",
    "#Retry once more for all missing values before discarding them completely\n",
    "aMissingIDs, aTimeFrameDF, aSectionsDF, aSegmentDF, aPitchDF, aTimbreDF, aSegmentID =\\\n",
    "AddSongsToAnalysisDF(mMissingAnalysisIDs, aSegmentID)\n",
    "mMissingAnalysisIDs = aMissingIDs\n",
    "if len(aTimeFrameDF) > 0:\n",
    "    mSongTimeFrameDF.extend(aTimeFrameDF)\n",
    "if len(aSectionsDF) > 0:\n",
    "    mSongSectionsDF.extend(aSectionsDF)\n",
    "if len(aSegmentDF) > 0:\n",
    "    mSongSegmentsDF.extend(aSegmentDF)\n",
    "if len(aPitchDF) > 0:\n",
    "    mSongPitchesDF.extend(aPitchDF)\n",
    "if len(aTimbreDF) > 0:\n",
    "    mSongTimbreDF.extend(aTimbreDF)\n",
    "\n",
    "mSongTimeFrameDF = mPandasObj.concat(mSongTimeFrameDF)\n",
    "mSongSectionsDF = mPandasObj.concat(mSongSectionsDF)\n",
    "mSongSegmentsDF = mPandasObj.concat(mSongSegmentsDF)\n",
    "mSongPitchesDF = mPandasObj.concat(mSongPitchesDF)\n",
    "mSongTimbreDF = mPandasObj.concat(mSongTimbreDF)"
   ]
  },
  {
   "cell_type": "markdown",
   "metadata": {},
   "source": [
    "## Remove Songs without Audio Analysis\n",
    "***\n",
    "1. Songs that have missing audio analysis can't be used in Dataset so will be removed\n",
    "***"
   ]
  },
  {
   "cell_type": "code",
   "execution_count": 14,
   "metadata": {
    "scrolled": true
   },
   "outputs": [],
   "source": [
    "mTopDJSongsDF = mTopDJSongsDF[~mTopDJSongsDF['id'].isin(mMissingAnalysisIDs)]\n",
    "mSongFeaturesDF = mSongFeaturesDF[~mSongFeaturesDF['id'].isin(mMissingAnalysisIDs)]"
   ]
  },
  {
   "cell_type": "code",
   "execution_count": 15,
   "metadata": {},
   "outputs": [
    {
     "data": {
      "text/plain": [
       "(14598, 4)"
      ]
     },
     "execution_count": 15,
     "metadata": {},
     "output_type": "execute_result"
    }
   ],
   "source": [
    "mTopDJSongsDF.drop_duplicates(inplace=True)\n",
    "mTopDJSongsDF.shape"
   ]
  },
  {
   "cell_type": "code",
   "execution_count": 16,
   "metadata": {},
   "outputs": [
    {
     "data": {
      "text/plain": [
       "(13949, 14)"
      ]
     },
     "execution_count": 16,
     "metadata": {},
     "output_type": "execute_result"
    }
   ],
   "source": [
    "mSongFeaturesDF.drop_duplicates(inplace=True)\n",
    "mSongFeaturesDF.shape"
   ]
  },
  {
   "cell_type": "code",
   "execution_count": 17,
   "metadata": {},
   "outputs": [
    {
     "data": {
      "text/plain": [
       "(100, 3)"
      ]
     },
     "execution_count": 17,
     "metadata": {},
     "output_type": "execute_result"
    }
   ],
   "source": [
    "mArtistDataset.drop_duplicates(inplace=True)\n",
    "mArtistDataset.shape"
   ]
  },
  {
   "cell_type": "code",
   "execution_count": 18,
   "metadata": {},
   "outputs": [
    {
     "data": {
      "text/plain": [
       "(23857633, 5)"
      ]
     },
     "execution_count": 18,
     "metadata": {},
     "output_type": "execute_result"
    }
   ],
   "source": [
    "mSongTimeFrameDF.drop_duplicates(inplace=True)\n",
    "mSongTimeFrameDF.shape"
   ]
  },
  {
   "cell_type": "code",
   "execution_count": 19,
   "metadata": {},
   "outputs": [
    {
     "data": {
      "text/plain": [
       "(147062, 13)"
      ]
     },
     "execution_count": 19,
     "metadata": {},
     "output_type": "execute_result"
    }
   ],
   "source": [
    "mSongSectionsDF.drop_duplicates(inplace=True)\n",
    "mSongSectionsDF.shape"
   ]
  },
  {
   "cell_type": "code",
   "execution_count": 20,
   "metadata": {},
   "outputs": [
    {
     "data": {
      "text/plain": [
       "(15761732, 9)"
      ]
     },
     "execution_count": 20,
     "metadata": {},
     "output_type": "execute_result"
    }
   ],
   "source": [
    "mSongSegmentsDF.drop_duplicates(inplace=True)\n",
    "mSongSegmentsDF.shape"
   ]
  },
  {
   "cell_type": "code",
   "execution_count": 21,
   "metadata": {},
   "outputs": [
    {
     "data": {
      "text/plain": [
       "(15761732, 13)"
      ]
     },
     "execution_count": 21,
     "metadata": {},
     "output_type": "execute_result"
    }
   ],
   "source": [
    "mSongPitchesDF.drop_duplicates(inplace=True)\n",
    "mSongPitchesDF.shape"
   ]
  },
  {
   "cell_type": "code",
   "execution_count": 22,
   "metadata": {},
   "outputs": [
    {
     "data": {
      "text/plain": [
       "(15761732, 13)"
      ]
     },
     "execution_count": 22,
     "metadata": {},
     "output_type": "execute_result"
    }
   ],
   "source": [
    "mSongTimbreDF.drop_duplicates(inplace=True)\n",
    "mSongTimbreDF.shape"
   ]
  },
  {
   "cell_type": "markdown",
   "metadata": {},
   "source": [
    "## Store all DataFrames as CSV Files\n",
    "***\n",
    "1. Store all eight dataframes as CSV Files by using to_csv\n",
    "2. These datasets will then be used in another file for EDA\n",
    "3. After EDA and Model selection, the datasets will be broken down in Train, Test, Validate for Model\n",
    "***"
   ]
  },
  {
   "cell_type": "code",
   "execution_count": 23,
   "metadata": {
    "scrolled": true
   },
   "outputs": [],
   "source": [
    "mArtistDataset.to_csv('Top100Artists.csv', index=False)\n",
    "mTopDJSongsDF.to_csv('TopSongsByArtists.csv', index=False)\n",
    "mSongFeaturesDF.to_csv('TopSongAudioFeatures.csv', index=False)\n",
    "mSongTimeFrameDF.to_csv('SongTimeFrameData.csv', index=False)\n",
    "mSongSectionsDF.to_csv('SongSectionData.csv', index=False)\n",
    "mSongSegmentsDF.to_csv('SongSegmentData.csv', index=False)\n",
    "mSongPitchesDF.to_csv('SegmentPitchesData.csv', index=False)\n",
    "mSongTimbreDF.to_csv('SegmentTimbreData.csv', index=False)"
   ]
  }
 ],
 "metadata": {
  "kernelspec": {
   "display_name": "Python 3",
   "language": "python",
   "name": "python3"
  },
  "language_info": {
   "codemirror_mode": {
    "name": "ipython",
    "version": 3
   },
   "file_extension": ".py",
   "mimetype": "text/x-python",
   "name": "python",
   "nbconvert_exporter": "python",
   "pygments_lexer": "ipython3",
   "version": "3.8.3"
  }
 },
 "nbformat": 4,
 "nbformat_minor": 4
}
