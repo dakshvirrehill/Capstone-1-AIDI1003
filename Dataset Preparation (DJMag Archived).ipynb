{
 "cells": [
  {
   "cell_type": "markdown",
   "metadata": {},
   "source": [
    "///-------------------------------------------------------------------------------------------------<br>\n",
    "// File: Dataset Preparation.ipynb<br>\n",
    "//<br>\n",
    "// Author: Dakshvir Singh Rehill<br>\n",
    "// Date: 14/10/2020<br>\n",
    "//<br>\n",
    "// Summary:\tThis notebook is used to generate the dataset from DJMag Top 100 DJs and Spotify API<br>\n",
    "///-------------------------------------------------------------------------------------------------\n",
    "***"
   ]
  },
  {
   "cell_type": "markdown",
   "metadata": {},
   "source": [
    "## Get Top 100 DJs from DJMag\n",
    "***\n",
    "1. Import requests package\n",
    "2. Use requests to fetch Top 100 page from DJMag\n",
    "3. Import beautifulsoup package\n",
    "4. Use beautifulsoup to get DJ name\n",
    "***"
   ]
  },
  {
   "cell_type": "code",
   "execution_count": null,
   "metadata": {
    "scrolled": true
   },
   "outputs": [],
   "source": [
    "import requests\n",
    "from bs4 import BeautifulSoup\n",
    "mScrapeURL = 'https://djmag.com/top100dj?year=2019'\n",
    "mPageHTML = requests.get(mScrapeURL)\n",
    "mParsedObject = BeautifulSoup(mPageHTML.content, 'html.parser')\n",
    "mDJNameElemList = mParsedObject.find_all('div',class_='top100dj-name')\n",
    "mDJNamesList = []\n",
    "for aDJNameElem in mDJNameElemList:\n",
    "    mDJNamesList.append(aDJNameElem.find('a').text)"
   ]
  },
  {
   "cell_type": "markdown",
   "metadata": {},
   "source": [
    "## Get DJ Popularity, ID from Spotify API\n",
    "***\n",
    "1. Import spotipy package\n",
    "2. Use spotipy to set up App Credentials\n",
    "3. Search for each artist\n",
    "5. Import pandas package\n",
    "4. Create DataFrame with Artist Details\n",
    "***"
   ]
  },
  {
   "cell_type": "code",
   "execution_count": null,
   "metadata": {
    "scrolled": true
   },
   "outputs": [],
   "source": [
    "import spotipy\n",
    "from spotipy.oauth2 import SpotifyClientCredentials\n",
    "import numpy as mNP\n",
    "import pandas as mPandasObj\n",
    "from IPython.display import display\n",
    "mSpotifyClient = spotipy.Spotify(auth_manager=SpotifyClientCredentials(client_id=\"7f839484fcf4450db86dcc9126cec5e1\",\\\n",
    "                                client_secret=\"80e9b5a936a44b2880354a719ef54019\", requests_timeout = None))"
   ]
  },
  {
   "cell_type": "code",
   "execution_count": null,
   "metadata": {
    "scrolled": true
   },
   "outputs": [],
   "source": [
    "mArtistList = []\n",
    "for aArtistName in mDJNamesList:\n",
    "    aSelectedArtist = {'id' : '','name' : '','popularity' : 0}\n",
    "    aSearchResult = mSpotifyClient.search(q=aArtistName,type='artist',market='CA')\n",
    "    for aArtist in aSearchResult['artists']['items']:\n",
    "        if aSelectedArtist['popularity'] <= aArtist['popularity']:\n",
    "            aSelectedArtist['id'] = aArtist['id']\n",
    "            aSelectedArtist['name'] = aArtist['name']\n",
    "            aSelectedArtist['popularity'] = aArtist['popularity']\n",
    "    mArtistList.append(aSelectedArtist)\n",
    "mArtistDataset = mPandasObj.DataFrame(mArtistList)\n",
    "mArtistDataset.shape"
   ]
  },
  {
   "cell_type": "markdown",
   "metadata": {},
   "source": [
    "## Get Top 150 songs of each Artist\n",
    "***\n",
    "1. Search for type track using artist name\n",
    "2. Get ID, Name, Popularity of Track and concatenate into Artist DataFrame\n",
    "3. Store each dataframe in list\n",
    "4. Concatenate all dataframes into one dataset\n",
    "***"
   ]
  },
  {
   "cell_type": "code",
   "execution_count": null,
   "metadata": {
    "scrolled": true
   },
   "outputs": [],
   "source": [
    "mAllArtistDFList = []\n",
    "for aArtist in mArtistList:\n",
    "    aArtistDFList = []\n",
    "    for aCurOffset in range(0,150,50):\n",
    "        aTopSongSearchResult = mSpotifyClient.search(q=aArtist['name'],type='track',market='CA',offset=aCurOffset,limit=50)\n",
    "        aTopSongDF =mPandasObj.DataFrame(aTopSongSearchResult['tracks']['items'],columns=['id','name','popularity'])\n",
    "        aArtistDFList.append(aTopSongDF)\n",
    "    aArtistTopSongDF = mPandasObj.concat(aArtistDFList)\n",
    "    aArtistTopSongDF['artist_id'] = aArtist['id']\n",
    "    aArtistTopSongDF['artist_name'] = aArtist['name']\n",
    "    aArtistTopSongDF['artist_popularity'] = aArtist['popularity']\n",
    "    mAllArtistDFList.append(aArtistTopSongDF)\n",
    "mTopDJSongsDF = mPandasObj.concat(mAllArtistDFList)\n",
    "mTopDJSongsDF.shape"
   ]
  },
  {
   "cell_type": "markdown",
   "metadata": {},
   "source": [
    "## Get Audio Features of All songs in TopSongs DF\n",
    "***\n",
    "1. Use Audio Features function to get all audio features\n",
    "2. Get 'id', 'key', 'mode', 'time_signature', 'acousticness', 'danceability', 'energy', 'instrumentalness' ,'liveness' ,'loudness' ,'speechiness' ,'valence' ,'tempo' ,'duration_ms' and concatenate into one DF\n",
    "3. Store each dataframe in list\n",
    "4. Concatenate all dataframes into one dataset\n",
    "***"
   ]
  },
  {
   "cell_type": "code",
   "execution_count": null,
   "metadata": {
    "scrolled": true
   },
   "outputs": [],
   "source": [
    "mAllArtistFeatureDFList = []\n",
    "for aArtistDF in mAllArtistDFList:\n",
    "    aIDList = aArtistDF[:100]['id'].tolist()\n",
    "    aAudioFeatures = mSpotifyClient.audio_features(tracks = aIDList)\n",
    "    aFeatureDictList = []\n",
    "    for aAF in aAudioFeatures:\n",
    "        if aAF is not None:\n",
    "            aReqValF = {'id':aAF['id'],'key':aAF['key'],'mode':aAF['mode'],'time_signature':aAF['time_signature'],\\\n",
    "                        'acousticness':aAF['acousticness'], 'danceability':aAF['danceability'],'energy':aAF['energy'],\\\n",
    "                       'instrumentalness':aAF['instrumentalness'],'liveness':aAF['liveness'],'loudness':aAF['loudness'],\\\n",
    "                       'speechiness':aAF['speechiness'],'valence':aAF['valence'],'tempo':aAF['tempo'],'duration_ms':aAF['duration_ms']}\n",
    "            aFeatureDictList.append(aReqValF)\n",
    "    aIDList = aArtistDF[-50:]['id'].tolist()\n",
    "    aAudioFeatures = mSpotifyClient.audio_features(tracks = aIDList)\n",
    "    for aAF in aAudioFeatures:\n",
    "        if aAF is not None:\n",
    "            aReqValF = {'id':aAF['id'],'key':aAF['key'],'mode':aAF['mode'],'time_signature':aAF['time_signature'],\\\n",
    "                        'acousticness':aAF['acousticness'], 'danceability':aAF['danceability'],'energy':aAF['energy'],\\\n",
    "                       'instrumentalness':aAF['instrumentalness'],'liveness':aAF['liveness'],'loudness':aAF['loudness'],\\\n",
    "                       'speechiness':aAF['speechiness'],'valence':aAF['valence'],'tempo':aAF['tempo'],'duration_ms':aAF['duration_ms']}\n",
    "            aFeatureDictList.append(aReqValF)\n",
    "    aFeatureDF = mPandasObj.DataFrame(aFeatureDictList)\n",
    "    mAllArtistFeatureDFList.append(aFeatureDF)\n",
    "mSongFeaturesDF = mPandasObj.concat(mAllArtistFeatureDFList)\n",
    "mSongFeaturesDF.shape"
   ]
  },
  {
   "cell_type": "markdown",
   "metadata": {},
   "source": [
    "## Remove Songs without Audio Features\n",
    "***\n",
    "1. Songs that have missing audio features can't be used in Dataset so will be removed\n",
    "***"
   ]
  },
  {
   "cell_type": "code",
   "execution_count": null,
   "metadata": {
    "scrolled": true
   },
   "outputs": [],
   "source": [
    "mSongFeaturesDF.drop_duplicates(inplace=True,subset='id')\n",
    "mTopDJSongsDF.drop_duplicates(inplace=True,subset='id')\n",
    "mTopDJSongsDF = mPandasObj.merge(mTopDJSongsDF,mSongFeaturesDF, on = 'id')"
   ]
  },
  {
   "cell_type": "code",
   "execution_count": null,
   "metadata": {},
   "outputs": [],
   "source": [
    "mSongFeaturesDF.shape"
   ]
  },
  {
   "cell_type": "code",
   "execution_count": null,
   "metadata": {},
   "outputs": [],
   "source": [
    "mTopDJSongsDF.shape"
   ]
  },
  {
   "cell_type": "markdown",
   "metadata": {},
   "source": [
    "## Store all DataFrames as CSV Files\n",
    "***\n",
    "1. Store all eight dataframes as CSV Files by using to_csv\n",
    "2. These datasets will then be used in another file for EDA\n",
    "3. After EDA and Model selection, the datasets will be broken down in Train, Test, Validate for Model\n",
    "***"
   ]
  },
  {
   "cell_type": "code",
   "execution_count": null,
   "metadata": {
    "scrolled": true
   },
   "outputs": [],
   "source": [
    "\n",
    "mTopDJSongsDF.to_csv('TopSongsMaster.csv', index=False)"
   ]
  }
 ],
 "metadata": {
  "kernelspec": {
   "display_name": "Python 3",
   "language": "python",
   "name": "python3"
  },
  "language_info": {
   "codemirror_mode": {
    "name": "ipython",
    "version": 3
   },
   "file_extension": ".py",
   "mimetype": "text/x-python",
   "name": "python",
   "nbconvert_exporter": "python",
   "pygments_lexer": "ipython3",
   "version": "3.8.3"
  }
 },
 "nbformat": 4,
 "nbformat_minor": 4
}
