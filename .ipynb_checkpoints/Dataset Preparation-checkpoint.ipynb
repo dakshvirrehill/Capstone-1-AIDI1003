{
 "cells": [
  {
   "cell_type": "markdown",
   "metadata": {},
   "source": [
    "///-------------------------------------------------------------------------------------------------<br>\n",
    "// File: Dataset Preparation.ipynb<br>\n",
    "//<br>\n",
    "// Author: Dakshvir Singh Rehill<br>\n",
    "// Date: 14/10/2020<br>\n",
    "//<br>\n",
    "// Summary:\tThis notebook is used to generate the dataset from DJMag Top 100 DJs and Spotify API<br>\n",
    "///-------------------------------------------------------------------------------------------------\n",
    "***"
   ]
  },
  {
   "cell_type": "markdown",
   "metadata": {},
   "source": [
    "## Get Top 100 DJs from DJMag\n",
    "***\n",
    "1. Import requests package\n",
    "2. Use requests to fetch Top 100 page from DJMag\n",
    "3. Import beautifulsoup package\n",
    "4. Use beautifulsoup to get DJ name\n",
    "***"
   ]
  },
  {
   "cell_type": "code",
   "execution_count": 1,
   "metadata": {
    "scrolled": true
   },
   "outputs": [],
   "source": [
    "import requests\n",
    "from bs4 import BeautifulSoup\n",
    "mScrapeURL = 'https://djmag.com/top100dj?year=2019'\n",
    "mPageHTML = requests.get(mScrapeURL)\n",
    "mParsedObject = BeautifulSoup(mPageHTML.content, 'html.parser')\n",
    "mDJNameElemList = mParsedObject.find_all('div',class_='top100dj-name')\n",
    "mDJNamesList = []\n",
    "for aDJNameElem in mDJNameElemList:\n",
    "    mDJNamesList.append(aDJNameElem.find('a').text)"
   ]
  },
  {
   "cell_type": "markdown",
   "metadata": {},
   "source": [
    "## Get DJ Popularity, ID from Spotify API\n",
    "***\n",
    "1. Import spotipy package\n",
    "2. Use spotipy to set up App Credentials\n",
    "3. Search for each artist\n",
    "5. Import pandas package\n",
    "4. Create DataFrame with Artist Details\n",
    "***"
   ]
  },
  {
   "cell_type": "code",
   "execution_count": 2,
   "metadata": {
    "scrolled": true
   },
   "outputs": [],
   "source": [
    "import spotipy\n",
    "from spotipy.oauth2 import SpotifyClientCredentials\n",
    "import numpy as mNP\n",
    "import pandas as mPandasObj\n",
    "from IPython.display import display\n",
    "mSpotifyClient = spotipy.Spotify(auth_manager=SpotifyClientCredentials(client_id=\"7f839484fcf4450db86dcc9126cec5e1\",\\\n",
    "                                client_secret=\"80e9b5a936a44b2880354a719ef54019\", requests_timeout = None))"
   ]
  },
  {
   "cell_type": "code",
   "execution_count": 3,
   "metadata": {
    "scrolled": true
   },
   "outputs": [
    {
     "data": {
      "text/plain": [
       "(100, 3)"
      ]
     },
     "execution_count": 3,
     "metadata": {},
     "output_type": "execute_result"
    }
   ],
   "source": [
    "mArtistList = []\n",
    "for aArtistName in mDJNamesList:\n",
    "    aSelectedArtist = {'id' : '','name' : '','popularity' : 0}\n",
    "    aSearchResult = mSpotifyClient.search(q=aArtistName,type='artist',market='CA')\n",
    "    for aArtist in aSearchResult['artists']['items']:\n",
    "        if aSelectedArtist['popularity'] <= aArtist['popularity']:\n",
    "            aSelectedArtist['id'] = aArtist['id']\n",
    "            aSelectedArtist['name'] = aArtist['name']\n",
    "            aSelectedArtist['popularity'] = aArtist['popularity']\n",
    "    mArtistList.append(aSelectedArtist)\n",
    "mArtistDataset = mPandasObj.DataFrame(mArtistList)\n",
    "mArtistDataset.shape"
   ]
  },
  {
   "cell_type": "markdown",
   "metadata": {},
   "source": [
    "## Get Top 150 songs of each Artist\n",
    "***\n",
    "1. Search for type track using artist name\n",
    "2. Get ID, Name, Popularity of Track and concatenate into Artist DataFrame\n",
    "3. Store each dataframe in list\n",
    "4. Concatenate all dataframes into one dataset\n",
    "***"
   ]
  },
  {
   "cell_type": "code",
   "execution_count": 4,
   "metadata": {
    "scrolled": true
   },
   "outputs": [
    {
     "data": {
      "text/plain": [
       "(14617, 4)"
      ]
     },
     "execution_count": 4,
     "metadata": {},
     "output_type": "execute_result"
    }
   ],
   "source": [
    "mAllArtistDFList = []\n",
    "for aArtist in mArtistList:\n",
    "    aArtistDFList = []\n",
    "    for aCurOffset in range(0,150,50):\n",
    "        aTopSongSearchResult = mSpotifyClient.search(q=aArtist['name'],type='track',market='CA',offset=aCurOffset,limit=50)\n",
    "        aTopSongDF =mPandasObj.DataFrame(aTopSongSearchResult['tracks']['items'],columns=['id','name','popularity'])\n",
    "        aArtistDFList.append(aTopSongDF)\n",
    "    aArtistTopSongDF = mPandasObj.concat(aArtistDFList)\n",
    "    aArtistTopSongDF['artist_id'] = aArtist['id']\n",
    "    mAllArtistDFList.append(aArtistTopSongDF)\n",
    "mTopDJSongsDF = mPandasObj.concat(mAllArtistDFList)\n",
    "mTopDJSongsDF.shape"
   ]
  },
  {
   "cell_type": "markdown",
   "metadata": {},
   "source": [
    "## Get Audio Features of All songs in TopSongs DF\n",
    "***\n",
    "1. Use Audio Features function to get all audio features\n",
    "2. Get 'id', 'key', 'mode', 'time_signature', 'acousticness', 'danceability', 'energy', 'instrumentalness' ,'liveness' ,'loudness' ,'speechiness' ,'valence' ,'tempo' ,'duration_ms' and concatenate into one DF\n",
    "3. Store each dataframe in list\n",
    "4. Concatenate all dataframes into one dataset\n",
    "***"
   ]
  },
  {
   "cell_type": "code",
   "execution_count": 6,
   "metadata": {
    "scrolled": true
   },
   "outputs": [
    {
     "data": {
      "text/plain": [
       "(14917, 14)"
      ]
     },
     "execution_count": 6,
     "metadata": {},
     "output_type": "execute_result"
    }
   ],
   "source": [
    "mAllArtistFeatureDFList = []\n",
    "for aArtistDF in mAllArtistDFList:\n",
    "    aIDList = aArtistDF[:100]['id'].tolist()\n",
    "    aAudioFeatures = mSpotifyClient.audio_features(tracks = aIDList)\n",
    "    aFeatureDictList = []\n",
    "    for aAF in aAudioFeatures:\n",
    "        if aAF is not None:\n",
    "            aReqValF = {'id':aAF['id'],'key':aAF['key'],'mode':aAF['mode'],'time_signature':aAF['time_signature'],\\\n",
    "                        'acousticness':aAF['acousticness'], 'danceability':aAF['danceability'],'energy':aAF['energy'],\\\n",
    "                       'instrumentalness':aAF['instrumentalness'],'liveness':aAF['liveness'],'loudness':aAF['loudness'],\\\n",
    "                       'speechiness':aAF['speechiness'],'valence':aAF['valence'],'tempo':aAF['tempo'],'duration_ms':aAF['duration_ms']}\n",
    "            aFeatureDictList.append(aReqValF)\n",
    "    aIDList = aArtistDF[-50:]['id'].tolist()\n",
    "    aAudioFeatures = mSpotifyClient.audio_features(tracks = aIDList)\n",
    "    for aAF in aAudioFeatures:\n",
    "        if aAF is not None:\n",
    "            aReqValF = {'id':aAF['id'],'key':aAF['key'],'mode':aAF['mode'],'time_signature':aAF['time_signature'],\\\n",
    "                        'acousticness':aAF['acousticness'], 'danceability':aAF['danceability'],'energy':aAF['energy'],\\\n",
    "                       'instrumentalness':aAF['instrumentalness'],'liveness':aAF['liveness'],'loudness':aAF['loudness'],\\\n",
    "                       'speechiness':aAF['speechiness'],'valence':aAF['valence'],'tempo':aAF['tempo'],'duration_ms':aAF['duration_ms']}\n",
    "            aFeatureDictList.append(aReqValF)\n",
    "    aFeatureDF = mPandasObj.DataFrame(aFeatureDictList)\n",
    "    mAllArtistFeatureDFList.append(aFeatureDF)\n",
    "mSongFeaturesDF = mPandasObj.concat(mAllArtistFeatureDFList)\n",
    "mSongFeaturesDF.shape"
   ]
  },
  {
   "cell_type": "markdown",
   "metadata": {},
   "source": [
    "## Remove Songs without Audio Features\n",
    "***\n",
    "1. Songs that have missing audio features can't be used in Dataset so will be removed\n",
    "***"
   ]
  },
  {
   "cell_type": "code",
   "execution_count": 7,
   "metadata": {
    "scrolled": true
   },
   "outputs": [],
   "source": [
    "mSongFeaturesDF.drop_duplicates(inplace=True)\n",
    "mTopDJSongsDF = mTopDJSongsDF[mTopDJSongsDF['id'].isin(mSongFeaturesDF['id'])]\n",
    "mTopDJSongsDF.drop_duplicates(inplace=True)"
   ]
  },
  {
   "cell_type": "code",
   "execution_count": 8,
   "metadata": {},
   "outputs": [
    {
     "data": {
      "text/plain": [
       "(13959, 14)"
      ]
     },
     "execution_count": 8,
     "metadata": {},
     "output_type": "execute_result"
    }
   ],
   "source": [
    "mSongFeaturesDF.shape"
   ]
  },
  {
   "cell_type": "code",
   "execution_count": 9,
   "metadata": {},
   "outputs": [
    {
     "data": {
      "text/plain": [
       "(14608, 4)"
      ]
     },
     "execution_count": 9,
     "metadata": {},
     "output_type": "execute_result"
    }
   ],
   "source": [
    "mTopDJSongsDF.shape"
   ]
  },
  {
   "cell_type": "markdown",
   "metadata": {},
   "source": [
    "## Create Datasets for Audio Analysis of Songs\n",
    "***\n",
    "1. Use track ID from TopSongs to fetch Audio Analysis of Songs\n",
    "2. Create various tables for all Audio Analysis values\n",
    "3. Store and save as Datasets\n",
    "***"
   ]
  },
  {
   "cell_type": "code",
   "execution_count": 10,
   "metadata": {},
   "outputs": [],
   "source": [
    "def AddSongsToAnalysisDF(pSongIDs,pSegmentID):\n",
    "    mMissingAnalysisIDs = []\n",
    "    mSongTimeFrameDF = []\n",
    "    mSongSectionsDF = []\n",
    "    mSongSegmentsDF = []\n",
    "    mSongPitchesDF = []\n",
    "    mSongTimbreDF = []\n",
    "    for aSongID in pSongIDs:\n",
    "        aSongAnalysisObj = None\n",
    "        try:\n",
    "            aSongAnalysisObj = mSpotifyClient.audio_analysis(aSongID)\n",
    "        except:\n",
    "            aSongAnalysisObj = None\n",
    "            print(\"Can't find Song Analysis for Song\", aSongID)\n",
    "        if aSongAnalysisObj is None:\n",
    "            mMissingAnalysisIDs.append(aSongID)\n",
    "            continue\n",
    "        aTempList = []\n",
    "        for aBars in aSongAnalysisObj['bars']:\n",
    "            aReqBarVal = {'song_id':aSongID,'start':aBars['start'],'duration':aBars['duration'],'confidence':aBars['confidence'],\\\n",
    "                         'type':'Bar'}\n",
    "            aTempList.append(aReqBarVal)\n",
    "        for aBeats in aSongAnalysisObj['beats']:\n",
    "            aReqBeatVal = {'song_id':aSongID,'start':aBeats['start'],'duration':aBeats['duration'],'confidence':aBeats['confidence'],\\\n",
    "                         'type':'Beat'}\n",
    "            aTempList.append(aReqBeatVal)\n",
    "        for aTatums in aSongAnalysisObj['tatums']:\n",
    "            aReqTatumVal = {'song_id':aSongID,'start':aTatums['start'],'duration':aTatums['duration'],'confidence':aTatums['confidence'],\\\n",
    "                         'type':'Tatum'}\n",
    "            aTempList.append(aReqTatumVal)\n",
    "        mSongTimeFrameDF.append(mPandasObj.DataFrame(aTempList))\n",
    "        aTempList = []\n",
    "        for aSections in aSongAnalysisObj['sections']:\n",
    "            aReqSectVal = {'song_id':aSongID, 'start':aSections['start'], 'duration':aSections['duration'],\\\n",
    "                           'confidence':aSections['confidence'], 'loudness':aSections['loudness'], 'tempo':aSections['tempo'],\\\n",
    "                           'tempo_confidence':aSections['tempo_confidence'], 'key':aSections['key'],\\\n",
    "                           'key_confidence':aSections['key_confidence'], 'mode':aSections['mode'],\\\n",
    "                           'mode_confidence':aSections['mode_confidence'], 'time_signature':aSections['time_signature'],\\\n",
    "                           'time_signature_confidence':aSections['time_signature_confidence']}\n",
    "            aTempList.append(aReqSectVal)\n",
    "        mSongSectionsDF.append(mPandasObj.DataFrame(aTempList))\n",
    "        aTempList = []\n",
    "        aTimbreList = []\n",
    "        aPitchList = []\n",
    "        for aSegments in aSongAnalysisObj['segments']:\n",
    "            aReqSegVal = {'song_id':aSongID,'id':pSegmentID, 'start':aSegments['start'], 'duration':aSegments['duration'],\\\n",
    "                           'confidence':aSegments['confidence'], 'loudness_start':aSegments['loudness_start'],\\\n",
    "                         'loudness_max':aSegments['loudness_max'], 'loudness_max_time':aSegments['loudness_max_time'],\\\n",
    "                         'loudness_end':aSegments['loudness_end']}\n",
    "            aTempList.append(aReqSegVal)\n",
    "            aReqPitchVal = {'segment_id':pSegmentID, 'I':aSegments['pitches'][0] ,'II':aSegments['pitches'][1] ,\\\n",
    "                            'III':aSegments['pitches'][2] ,'IV':aSegments['pitches'][3] ,'V':aSegments['pitches'][4] ,\\\n",
    "                            'VI':aSegments['pitches'][5] ,'VII':aSegments['pitches'][6] ,'VIII':aSegments['pitches'][7] ,\\\n",
    "                            'IX':aSegments['pitches'][8] ,'X':aSegments['pitches'][9] ,'XI':aSegments['pitches'][10] ,\\\n",
    "                            'XII':aSegments['pitches'][11] }\n",
    "            aPitchList.append(aReqPitchVal)\n",
    "            aReqTimbreVal = {'segment_id':pSegmentID, 'I':aSegments['timbre'][0] ,'II':aSegments['timbre'][1] ,\\\n",
    "                            'III':aSegments['timbre'][2] ,'IV':aSegments['timbre'][3] ,'V':aSegments['timbre'][4] ,\\\n",
    "                            'VI':aSegments['timbre'][5] ,'VII':aSegments['timbre'][6] ,'VIII':aSegments['timbre'][7] ,\\\n",
    "                            'IX':aSegments['timbre'][8] ,'X':aSegments['timbre'][9] ,'XI':aSegments['timbre'][10] ,\\\n",
    "                            'XII':aSegments['timbre'][11] }\n",
    "            aTimbreList.append(aReqTimbreVal)\n",
    "            pSegmentID = pSegmentID + 1\n",
    "        mSongSegmentsDF.append(mPandasObj.DataFrame(aTempList))\n",
    "        mSongPitchesDF.append(mPandasObj.DataFrame(aPitchList))\n",
    "        mSongTimbreDF.append(mPandasObj.DataFrame(aTimbreList))\n",
    "    return mMissingAnalysisIDs, mSongTimeFrameDF, mSongSectionsDF, mSongSegmentsDF, mSongPitchesDF, mSongTimbreDF, pSegmentID"
   ]
  },
  {
   "cell_type": "code",
   "execution_count": null,
   "metadata": {
    "scrolled": true
   },
   "outputs": [
    {
     "name": "stdout",
     "output_type": "stream",
     "text": [
      "Songs Scraped =  74 Missing Values =  0 Shape Test = (996, 5)\n",
      "Songs Scraped =  74 Missing Values =  0 Shape Test = (1428, 5)\n",
      "Songs Scraped =  74 Missing Values =  0 Shape Test = (1378, 5)\n",
      "Songs Scraped =  74 Missing Values =  0 Shape Test = (1349, 5)\n",
      "Songs Scraped =  74 Missing Values =  0 Shape Test = (2295, 5)\n",
      "Can't find Song Analysis for Song 6JH56gZC7EJDcoxabVcWVL\n",
      "Songs Scraped =  74 Missing Values =  1 Shape Test = (1553, 5)\n",
      "Songs Scraped =  74 Missing Values =  0 Shape Test = (2412, 5)\n",
      "Songs Scraped =  74 Missing Values =  0 Shape Test = (1170, 5)\n",
      "Songs Scraped =  73 Missing Values =  0 Shape Test = (1315, 5)\n",
      "Songs Scraped =  73 Missing Values =  0 Shape Test = (1605, 5)\n",
      "Songs Scraped =  73 Missing Values =  0 Shape Test = (2257, 5)\n",
      "Songs Scraped =  73 Missing Values =  0 Shape Test = (1303, 5)\n",
      "Songs Scraped =  73 Missing Values =  0 Shape Test = (1285, 5)\n",
      "Can't find Song Analysis for Song 4WiBtKNGtgjYaxb546pnau\n",
      "Songs Scraped =  73 Missing Values =  1 Shape Test = (1501, 5)\n",
      "Songs Scraped =  73 Missing Values =  0 Shape Test = (1439, 5)\n",
      "Songs Scraped =  73 Missing Values =  0 Shape Test = (1824, 5)\n",
      "Songs Scraped =  73 Missing Values =  0 Shape Test = (1127, 5)\n",
      "Songs Scraped =  73 Missing Values =  0 Shape Test = (1591, 5)\n",
      "Can't find Song Analysis for Song 4OxxmiGWQ0ZID0iZ4K5HLa\n",
      "Songs Scraped =  73 Missing Values =  1 Shape Test = (2600, 5)\n",
      "Songs Scraped =  73 Missing Values =  0 Shape Test = (1172, 5)\n",
      "Songs Scraped =  73 Missing Values =  0 Shape Test = (1453, 5)\n",
      "Songs Scraped =  73 Missing Values =  0 Shape Test = (1157, 5)\n",
      "Songs Scraped =  73 Missing Values =  0 Shape Test = (779, 5)\n",
      "Songs Scraped =  73 Missing Values =  0 Shape Test = (1091, 5)\n",
      "Songs Scraped =  73 Missing Values =  0 Shape Test = (1248, 5)\n",
      "Songs Scraped =  73 Missing Values =  0 Shape Test = (1219, 5)\n",
      "Songs Scraped =  73 Missing Values =  0 Shape Test = (1278, 5)\n",
      "Songs Scraped =  73 Missing Values =  0 Shape Test = (1286, 5)\n",
      "Songs Scraped =  73 Missing Values =  0 Shape Test = (861, 5)\n",
      "Songs Scraped =  73 Missing Values =  0 Shape Test = (1359, 5)\n",
      "Songs Scraped =  73 Missing Values =  0 Shape Test = (1739, 5)\n",
      "Songs Scraped =  73 Missing Values =  0 Shape Test = (1658, 5)\n",
      "Songs Scraped =  73 Missing Values =  0 Shape Test = (1577, 5)\n",
      "Songs Scraped =  73 Missing Values =  0 Shape Test = (2398, 5)\n",
      "Songs Scraped =  73 Missing Values =  0 Shape Test = (3120, 5)\n",
      "Songs Scraped =  73 Missing Values =  0 Shape Test = (1684, 5)\n",
      "Songs Scraped =  73 Missing Values =  0 Shape Test = (2135, 5)\n",
      "Songs Scraped =  73 Missing Values =  0 Shape Test = (1293, 5)\n",
      "Songs Scraped =  73 Missing Values =  0 Shape Test = (1923, 5)\n",
      "Songs Scraped =  73 Missing Values =  0 Shape Test = (1330, 5)\n",
      "Can't find Song Analysis for Song 3TFXdLQqRj5MHxxjIWxU7E\n",
      "Songs Scraped =  73 Missing Values =  1 Shape Test = (1367, 5)\n",
      "Songs Scraped =  73 Missing Values =  0 Shape Test = (1247, 5)\n",
      "Songs Scraped =  73 Missing Values =  0 Shape Test = (1206, 5)\n",
      "Songs Scraped =  73 Missing Values =  0 Shape Test = (2601, 5)\n",
      "Songs Scraped =  73 Missing Values =  0 Shape Test = (1258, 5)\n",
      "Songs Scraped =  73 Missing Values =  0 Shape Test = (1969, 5)\n",
      "Songs Scraped =  73 Missing Values =  0 Shape Test = (1778, 5)\n",
      "Songs Scraped =  73 Missing Values =  0 Shape Test = (1478, 5)\n",
      "Songs Scraped =  73 Missing Values =  0 Shape Test = (1759, 5)\n",
      "Songs Scraped =  73 Missing Values =  0 Shape Test = (737, 5)\n",
      "Songs Scraped =  73 Missing Values =  0 Shape Test = (1146, 5)\n",
      "Songs Scraped =  73 Missing Values =  0 Shape Test = (1254, 5)\n",
      "Songs Scraped =  73 Missing Values =  0 Shape Test = (1107, 5)\n",
      "Songs Scraped =  73 Missing Values =  0 Shape Test = (1966, 5)\n",
      "Songs Scraped =  73 Missing Values =  0 Shape Test = (1396, 5)\n"
     ]
    },
    {
     "name": "stderr",
     "output_type": "stream",
     "text": [
      "Max Retries reached\n"
     ]
    },
    {
     "name": "stdout",
     "output_type": "stream",
     "text": [
      "Can't find Song Analysis for Song 2R5eUSyhOKNNPw7zzLZwEL\n",
      "Songs Scraped =  73 Missing Values =  1 Shape Test = (1297, 5)\n",
      "Can't find Song Analysis for Song 0ZvfgQqegIyGLCl22uTssf\n",
      "Songs Scraped =  73 Missing Values =  1 Shape Test = (792, 5)\n",
      "Songs Scraped =  73 Missing Values =  0 Shape Test = (1651, 5)\n",
      "Songs Scraped =  73 Missing Values =  0 Shape Test = (1741, 5)\n",
      "Songs Scraped =  73 Missing Values =  0 Shape Test = (1700, 5)\n",
      "Songs Scraped =  73 Missing Values =  0 Shape Test = (997, 5)\n",
      "Songs Scraped =  73 Missing Values =  0 Shape Test = (2600, 5)\n",
      "Songs Scraped =  73 Missing Values =  0 Shape Test = (1631, 5)\n",
      "Songs Scraped =  73 Missing Values =  0 Shape Test = (1592, 5)\n",
      "Songs Scraped =  73 Missing Values =  0 Shape Test = (1437, 5)\n",
      "Can't find Song Analysis for Song 5G1FutZrc8F7VuFnd4r6GG\n",
      "Songs Scraped =  73 Missing Values =  1 Shape Test = (3005, 5)\n",
      "Songs Scraped =  73 Missing Values =  0 Shape Test = (3304, 5)\n",
      "Songs Scraped =  73 Missing Values =  0 Shape Test = (1001, 5)\n",
      "Songs Scraped =  73 Missing Values =  0 Shape Test = (1158, 5)\n"
     ]
    },
    {
     "name": "stderr",
     "output_type": "stream",
     "text": [
      "Max Retries reached\n"
     ]
    },
    {
     "name": "stdout",
     "output_type": "stream",
     "text": [
      "Can't find Song Analysis for Song 1j5BvC67aRkHaqX93G0Et4\n",
      "Songs Scraped =  73 Missing Values =  1 Shape Test = (1244, 5)\n"
     ]
    },
    {
     "name": "stderr",
     "output_type": "stream",
     "text": [
      "Max Retries reached\n"
     ]
    },
    {
     "name": "stdout",
     "output_type": "stream",
     "text": [
      "Can't find Song Analysis for Song 5CRUYbExDj1jaqhhY0oxrQ\n",
      "Songs Scraped =  73 Missing Values =  1 Shape Test = (2868, 5)\n"
     ]
    },
    {
     "name": "stderr",
     "output_type": "stream",
     "text": [
      "Max Retries reached\n"
     ]
    },
    {
     "name": "stdout",
     "output_type": "stream",
     "text": [
      "Can't find Song Analysis for Song 4joSJSEcddADmMgXSl9cvj\n",
      "Songs Scraped =  73 Missing Values =  1 Shape Test = (1920, 5)\n",
      "Songs Scraped =  73 Missing Values =  0 Shape Test = (1315, 5)\n",
      "Songs Scraped =  73 Missing Values =  0 Shape Test = (1637, 5)\n",
      "Songs Scraped =  73 Missing Values =  0 Shape Test = (1426, 5)\n",
      "Songs Scraped =  73 Missing Values =  0 Shape Test = (1560, 5)\n",
      "Songs Scraped =  73 Missing Values =  0 Shape Test = (1229, 5)\n",
      "Songs Scraped =  73 Missing Values =  0 Shape Test = (2188, 5)\n",
      "Songs Scraped =  73 Missing Values =  0 Shape Test = (1607, 5)\n",
      "Songs Scraped =  73 Missing Values =  0 Shape Test = (1496, 5)\n",
      "Songs Scraped =  73 Missing Values =  0 Shape Test = (419, 5)\n",
      "Songs Scraped =  73 Missing Values =  0 Shape Test = (610, 5)\n",
      "Songs Scraped =  73 Missing Values =  0 Shape Test = (743, 5)\n",
      "Songs Scraped =  73 Missing Values =  0 Shape Test = (2233, 5)\n",
      "Songs Scraped =  73 Missing Values =  0 Shape Test = (2583, 5)\n",
      "Songs Scraped =  73 Missing Values =  0 Shape Test = (2336, 5)\n",
      "Can't find Song Analysis for Song 5CIXxXaDMayOvzFi02kXBi\n",
      "Songs Scraped =  73 Missing Values =  1 Shape Test = (1764, 5)\n",
      "Songs Scraped =  73 Missing Values =  0 Shape Test = (1606, 5)\n",
      "Songs Scraped =  73 Missing Values =  0 Shape Test = (1032, 5)\n",
      "Songs Scraped =  73 Missing Values =  0 Shape Test = (1674, 5)\n",
      "Songs Scraped =  73 Missing Values =  0 Shape Test = (1154, 5)\n",
      "Songs Scraped =  73 Missing Values =  0 Shape Test = (1712, 5)\n",
      "Songs Scraped =  73 Missing Values =  0 Shape Test = (1481, 5)\n",
      "Songs Scraped =  73 Missing Values =  0 Shape Test = (1179, 5)\n",
      "Songs Scraped =  73 Missing Values =  0 Shape Test = (1043, 5)\n",
      "Songs Scraped =  73 Missing Values =  0 Shape Test = (2292, 5)\n",
      "Songs Scraped =  73 Missing Values =  0 Shape Test = (2526, 5)\n",
      "Can't find Song Analysis for Song 1yBFlHbMgYyM81Y8EB3WxO\n",
      "Songs Scraped =  73 Missing Values =  1 Shape Test = (3851, 5)\n",
      "Songs Scraped =  73 Missing Values =  0 Shape Test = (1013, 5)\n",
      "Songs Scraped =  73 Missing Values =  0 Shape Test = (1203, 5)\n",
      "Songs Scraped =  73 Missing Values =  0 Shape Test = (1668, 5)\n",
      "Songs Scraped =  73 Missing Values =  0 Shape Test = (1617, 5)\n",
      "Can't find Song Analysis for Song 4Mb8ZjWVzLYsdzYq60raDg\n",
      "Songs Scraped =  73 Missing Values =  1 Shape Test = (935, 5)\n",
      "Songs Scraped =  73 Missing Values =  0 Shape Test = (1422, 5)\n",
      "Songs Scraped =  73 Missing Values =  0 Shape Test = (1192, 5)\n",
      "Songs Scraped =  73 Missing Values =  0 Shape Test = (1595, 5)\n",
      "Songs Scraped =  73 Missing Values =  0 Shape Test = (1065, 5)\n",
      "Songs Scraped =  73 Missing Values =  0 Shape Test = (2809, 5)\n",
      "Songs Scraped =  73 Missing Values =  0 Shape Test = (1530, 5)\n",
      "Songs Scraped =  73 Missing Values =  0 Shape Test = (1735, 5)\n",
      "Songs Scraped =  73 Missing Values =  0 Shape Test = (772, 5)\n",
      "Songs Scraped =  73 Missing Values =  0 Shape Test = (3084, 5)\n",
      "Songs Scraped =  73 Missing Values =  0 Shape Test = (1042, 5)\n",
      "Songs Scraped =  73 Missing Values =  0 Shape Test = (1237, 5)\n",
      "Songs Scraped =  73 Missing Values =  0 Shape Test = (2147, 5)\n",
      "Songs Scraped =  73 Missing Values =  0 Shape Test = (1509, 5)\n",
      "Songs Scraped =  73 Missing Values =  0 Shape Test = (1456, 5)\n",
      "Songs Scraped =  73 Missing Values =  0 Shape Test = (1830, 5)\n",
      "Songs Scraped =  73 Missing Values =  0 Shape Test = (1722, 5)\n",
      "Songs Scraped =  73 Missing Values =  0 Shape Test = (1761, 5)\n",
      "Songs Scraped =  73 Missing Values =  0 Shape Test = (2705, 5)\n",
      "Songs Scraped =  73 Missing Values =  0 Shape Test = (2367, 5)\n",
      "Songs Scraped =  73 Missing Values =  0 Shape Test = (4941, 5)\n",
      "Songs Scraped =  73 Missing Values =  0 Shape Test = (2779, 5)\n",
      "Songs Scraped =  73 Missing Values =  0 Shape Test = (1507, 5)\n",
      "Songs Scraped =  73 Missing Values =  0 Shape Test = (1408, 5)\n",
      "Songs Scraped =  73 Missing Values =  0 Shape Test = (1543, 5)\n",
      "Songs Scraped =  73 Missing Values =  0 Shape Test = (1650, 5)\n",
      "Songs Scraped =  73 Missing Values =  0 Shape Test = (555, 5)\n",
      "Songs Scraped =  73 Missing Values =  0 Shape Test = (2598, 5)\n",
      "Can't find Song Analysis for Song 1gxCY1UWANvV1wCPUhVd7R\n",
      "Can't find Song Analysis for Song 3haS1MDe2Zh8jJaeiiymSt\n",
      "Can't find Song Analysis for Song 3suQrVyMqwpoMqR82H6fcr\n",
      "Songs Scraped =  73 Missing Values =  3 Shape Test = (1010, 5)\n",
      "Songs Scraped =  73 Missing Values =  0 Shape Test = (1195, 5)\n"
     ]
    }
   ],
   "source": [
    "mMissingAnalysisIDs = []\n",
    "mSongTimeFrameDF = []\n",
    "mSongSectionsDF = []\n",
    "mSongSegmentsDF = []\n",
    "mSongPitchesDF = []\n",
    "mSongTimbreDF = []\n",
    "aSegmentID = 1\n",
    "mSongIDs = mTopDJSongsDF['id']\n",
    "mSongIDSplits = mNP.array_split(mSongIDs, 200)\n",
    "for aSongIDList in mSongIDSplits:\n",
    "    aMissingIDs, aTimeFrameDF, aSectionsDF, aSegmentDF, aPitchDF, aTimbreDF, aSegmentID =\\\n",
    "    AddSongsToAnalysisDF(aSongIDList, aSegmentID)\n",
    "    mMissingAnalysisIDs.extend(aMissingIDs)\n",
    "    mSongTimeFrameDF.append(aTimeFrameDF)\n",
    "    mSongSectionsDF.append(aSectionsDF)\n",
    "    mSongSegmentsDF.append(aSegmentDF)\n",
    "    mSongPitchesDF.append(aPitchDF)\n",
    "    mSongTimbreDF.append(aTimbreDF)\n",
    "    print(\"Songs Scraped = \",len(aSongIDList), \"Missing Values = \", len(aMissingIDs),\"Shape Test =\", aTimeFrameDF[0].shape)\n",
    "mSongTimeFrameDF = mPandasObj.concat(mSongTimeFrameDF)\n",
    "mSongSectionsDF = mPandasObj.concat(mSongSectionsDF)\n",
    "mSongSegmentsDF = mPandasObj.concat(mSongSegmentsDF)\n",
    "mSongPitchesDF = mPandasObj.concat(mSongPitchesDF)\n",
    "mSongTimbreDF = mPandasObj.concat(mSongTimbreDF)"
   ]
  },
  {
   "cell_type": "markdown",
   "metadata": {},
   "source": [
    "## Remove Songs without Audio Analysis\n",
    "***\n",
    "1. Songs that have missing audio analysis can't be used in Dataset so will be removed\n",
    "***"
   ]
  },
  {
   "cell_type": "code",
   "execution_count": null,
   "metadata": {
    "scrolled": true
   },
   "outputs": [],
   "source": [
    "mTopDJSongsDF = mTopDJSongsDF[~mTopDJSongsDF['id'].isin(mMissingAnalysisIDs)]\n",
    "mSongFeaturesDF = mSongFeaturesDF[~mSongFeaturesDF['id'].isin(mMissingAnalysisIDs)]"
   ]
  },
  {
   "cell_type": "code",
   "execution_count": null,
   "metadata": {},
   "outputs": [],
   "source": [
    "mTopDJSongsDF.drop_duplicates(inplace=True)\n",
    "mTopDJSongsDF.shape"
   ]
  },
  {
   "cell_type": "code",
   "execution_count": null,
   "metadata": {},
   "outputs": [],
   "source": [
    "mSongFeaturesDF.drop_duplicates(inplace=True)\n",
    "mSongFeaturesDF.shape"
   ]
  },
  {
   "cell_type": "code",
   "execution_count": null,
   "metadata": {},
   "outputs": [],
   "source": [
    "mArtistDataset.drop_duplicates(inplace=True)\n",
    "mArtistDataset.shape"
   ]
  },
  {
   "cell_type": "code",
   "execution_count": null,
   "metadata": {},
   "outputs": [],
   "source": [
    "mSongTimeFrameDF.drop_duplicates(inplace=True)\n",
    "mSongTimeFrameDF.shape"
   ]
  },
  {
   "cell_type": "code",
   "execution_count": null,
   "metadata": {},
   "outputs": [],
   "source": [
    "mSongSectionsDF.drop_duplicates(inplace=True)\n",
    "mSongSectionsDF.shape"
   ]
  },
  {
   "cell_type": "code",
   "execution_count": null,
   "metadata": {},
   "outputs": [],
   "source": [
    "mSongSegmentsDF.drop_duplicates(inplace=True)\n",
    "mSongSegmentsDF.shape"
   ]
  },
  {
   "cell_type": "code",
   "execution_count": null,
   "metadata": {},
   "outputs": [],
   "source": [
    "mSongPitchesDF.drop_duplicates(inplace=True)\n",
    "mSongPitchesDF.shape"
   ]
  },
  {
   "cell_type": "code",
   "execution_count": null,
   "metadata": {},
   "outputs": [],
   "source": [
    "mSongTimbreDF.drop_duplicates(inplace=True)\n",
    "mSongTimbreDF.shape"
   ]
  },
  {
   "cell_type": "markdown",
   "metadata": {},
   "source": [
    "## Store all DataFrames as CSV Files\n",
    "***\n",
    "1. Store all eight dataframes as CSV Files by using to_csv\n",
    "2. These datasets will then be used in another file for EDA\n",
    "3. After EDA and Model selection, the datasets will be broken down in Train, Test, Validate for Model\n",
    "***"
   ]
  },
  {
   "cell_type": "code",
   "execution_count": null,
   "metadata": {
    "scrolled": true
   },
   "outputs": [],
   "source": [
    "mArtistDataset.to_csv('Top100Artists.csv', index=False)\n",
    "mTopDJSongsDF.to_csv('TopSongsByArtists.csv', index=False)\n",
    "mSongFeaturesDF.to_csv('TopSongAudioFeatures.csv', index=False)\n",
    "mSongTimeFrameDF.to_csv('SongTimeFrameData.csv', index=False)\n",
    "mSongSectionsDF.to_csv('SongSectionData.csv', index=False)\n",
    "mSongSegmentsDF.to_csv('SongSegmentData.csv', index=False)\n",
    "mSongPitchesDF.to_csv('SegmentPitchesData.csv', index=False)\n",
    "mSongTimbreDF.to_csv('SegmentTimbreData.csv', index=False)"
   ]
  }
 ],
 "metadata": {
  "kernelspec": {
   "display_name": "Python 3",
   "language": "python",
   "name": "python3"
  },
  "language_info": {
   "codemirror_mode": {
    "name": "ipython",
    "version": 3
   },
   "file_extension": ".py",
   "mimetype": "text/x-python",
   "name": "python",
   "nbconvert_exporter": "python",
   "pygments_lexer": "ipython3",
   "version": "3.8.3"
  }
 },
 "nbformat": 4,
 "nbformat_minor": 4
}
